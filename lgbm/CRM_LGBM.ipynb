{
 "cells": [
  {
   "cell_type": "markdown",
   "metadata": {
    "collapsed": true
   },
   "source": [
    "# Libs "
   ]
  },
  {
   "cell_type": "code",
   "execution_count": 1,
   "metadata": {
    "ExecuteTime": {
     "end_time": "2019-03-28T12:23:12.135673Z",
     "start_time": "2019-03-28T12:23:06.939982Z"
    },
    "scrolled": false
   },
   "outputs": [
    {
     "data": {
      "text/html": [
       "<style>.container { width:70% !important; }</style>"
      ],
      "text/plain": [
       "<IPython.core.display.HTML object>"
      ]
     },
     "metadata": {},
     "output_type": "display_data"
    },
    {
     "ename": "ModuleNotFoundError",
     "evalue": "No module named 'matplotlib'",
     "output_type": "error",
     "traceback": [
      "\u001b[0;31m---------------------------------------------------------------------------\u001b[0m",
      "\u001b[0;31mModuleNotFoundError\u001b[0m                       Traceback (most recent call last)",
      "\u001b[0;32m<ipython-input-1-a5a7187dfd04>\u001b[0m in \u001b[0;36m<module>\u001b[0;34m\u001b[0m\n\u001b[1;32m      6\u001b[0m \u001b[0;34m\u001b[0m\u001b[0m\n\u001b[1;32m      7\u001b[0m \u001b[0;31m# Libraries to show results of model and build a report. Done by Russian colleagues in HC\u001b[0m\u001b[0;34m\u001b[0m\u001b[0;34m\u001b[0m\u001b[0;34m\u001b[0m\u001b[0m\n\u001b[0;32m----> 8\u001b[0;31m \u001b[0;32mimport\u001b[0m \u001b[0mutilit_model_report\u001b[0m \u001b[0;32mas\u001b[0m \u001b[0mUMR\u001b[0m\u001b[0;34m\u001b[0m\u001b[0;34m\u001b[0m\u001b[0m\n\u001b[0m\u001b[1;32m      9\u001b[0m \u001b[0;32mimport\u001b[0m \u001b[0mutilities_am\u001b[0m \u001b[0;32mas\u001b[0m \u001b[0mut_ANDREY_v2\u001b[0m\u001b[0;34m\u001b[0m\u001b[0;34m\u001b[0m\u001b[0m\n\u001b[1;32m     10\u001b[0m \u001b[0;34m\u001b[0m\u001b[0m\n",
      "\u001b[0;32m~/git/spark-ml-labs/lgbm/utilit_model_report.py\u001b[0m in \u001b[0;36m<module>\u001b[0;34m\u001b[0m\n\u001b[1;32m      3\u001b[0m \u001b[0;32mimport\u001b[0m \u001b[0mpandas\u001b[0m \u001b[0;32mas\u001b[0m \u001b[0m__pd\u001b[0m\u001b[0;34m\u001b[0m\u001b[0;34m\u001b[0m\u001b[0m\n\u001b[1;32m      4\u001b[0m \u001b[0;32mimport\u001b[0m \u001b[0mnumpy\u001b[0m \u001b[0;32mas\u001b[0m \u001b[0m__np\u001b[0m\u001b[0;34m\u001b[0m\u001b[0;34m\u001b[0m\u001b[0m\n\u001b[0;32m----> 5\u001b[0;31m \u001b[0;32mimport\u001b[0m \u001b[0mmatplotlib\u001b[0m\u001b[0;34m.\u001b[0m\u001b[0mpyplot\u001b[0m \u001b[0;32mas\u001b[0m \u001b[0m__plt\u001b[0m\u001b[0;34m\u001b[0m\u001b[0;34m\u001b[0m\u001b[0m\n\u001b[0m\u001b[1;32m      6\u001b[0m \u001b[0;32mimport\u001b[0m \u001b[0mseaborn\u001b[0m \u001b[0;32mas\u001b[0m \u001b[0m__sns\u001b[0m\u001b[0;34m\u001b[0m\u001b[0;34m\u001b[0m\u001b[0m\n\u001b[1;32m      7\u001b[0m \u001b[0;32mimport\u001b[0m \u001b[0mscikitplot\u001b[0m \u001b[0;32mas\u001b[0m \u001b[0m__skplt\u001b[0m\u001b[0;34m\u001b[0m\u001b[0;34m\u001b[0m\u001b[0m\n",
      "\u001b[0;31mModuleNotFoundError\u001b[0m: No module named 'matplotlib'"
     ]
    }
   ],
   "source": [
    "from IPython.core.display import display, HTML\n",
    "display(HTML(\"<style>.container { width:70% !important; }</style>\")) \n",
    "\n",
    "import sys\n",
    "import importlib\n",
    "\n",
    "# Libraries to show results of model and build a report. Done by Russian colleagues in HC\n",
    "import utilit_model_report as UMR\n",
    "import utilities_am as ut_ANDREY_v2\n",
    "\n",
    "from tqdm import tqdm, tnrange, tqdm_notebook\n",
    "\n",
    "import gc, re\n",
    "import time\n",
    "from collections import Counter, defaultdict\n",
    "from functools import partial\n",
    "import numpy as np\n",
    "\n",
    "# Assign libraries of stat models (algorithms)\n",
    "import lightgbm as lgb\n",
    "#import xgboost as xgb\n",
    "from sklearn import tree\n",
    "from sklearn.linear_model import LogisticRegression\n",
    "from sklearn.ensemble import ExtraTreesClassifier\n",
    "from sklearn.ensemble import RandomForestClassifier\n",
    "from scipy.stats import linregress\n",
    "from sklearn.isotonic import IsotonicRegression\n",
    "from sklearn import neighbors\n",
    "from sklearn import metrics\n",
    "from sklearn.model_selection import cross_val_score\n",
    "\n",
    "\n",
    "import pickle\n",
    "#import cx_Oracle as orcl\n",
    "import pandas as pd\n",
    "import matplotlib.pyplot as plt\n",
    "import seaborn as sns\n",
    "# import scikitplot as skplt\n",
    "# from tqdm import tqdm_notebook \n",
    "# from sklearn.linear_model import LogisticRegression\n",
    "\n",
    "# disable Anaconda warnings\n",
    "import warnings\n",
    "warnings.simplefilter('ignore')\n",
    "\n",
    "# To show charts directly in Jupyter\n",
    "%pylab inline\n",
    "\n",
    "# Increase default size of charts\n",
    "from pylab import rcParams\n",
    "rcParams['figure.figsize'] = 15, 10\n",
    "\n",
    "from sklearn.model_selection import (KFold as KFold_sel, cross_val_score as cross_val_score_sel, StratifiedKFold, GridSearchCV\n",
    "                                    #,train_test_split\n",
    "                                    )\n",
    "\n",
    "#from mlxtend.plotting import plot_sequential_feature_selection as plot_sfs\n",
    "#from mlxtend.feature_selection import SequentialFeatureSelector as SFS\n",
    "from sklearn.feature_selection import VarianceThreshold, SelectFromModel\n",
    "\n",
    "from sklearn.manifold import TSNE\n",
    "from sklearn.preprocessing import StandardScaler, LabelEncoder\n",
    "from sklearn.pipeline import make_pipeline\n",
    "from sklearn.calibration import calibration_curve\n",
    "\n",
    "#from imblearn.over_sampling import ADASYN, SMOTE, RandomOverSampler\n",
    "#from imblearn.pipeline import make_pipeline as make_pipeline_imb\n",
    "\n",
    "from sklearn.model_selection import cross_val_score, train_test_split, KFold, ShuffleSplit # !!! Change to model_sel lib\n",
    "\n",
    "from sklearn.metrics import (roc_auc_score, roc_curve, precision_recall_curve, auc, log_loss, r2_score,\n",
    "                             brier_score_loss, precision_score, recall_score, f1_score, average_precision_score, \n",
    "                             confusion_matrix,classification_report, make_scorer, accuracy_score)\n",
    "\n",
    "from hyperopt import hp\n",
    "from hyperopt import fmin, tpe, hp, STATUS_OK, Trials\n",
    "\n",
    "from sklearn.calibration import CalibratedClassifierCV, calibration_curve\n",
    "\n",
    "#import imblearn.under_sampling as usampl\n",
    "\n",
    "pd.set_option('display.max_rows', 1000)\n",
    "pd.set_option('display.max_columns', 1000)\n",
    "\n",
    "import matplotlib.pyplot as plt\n",
    "import seaborn as sns\n",
    "\n",
    "import shap\n",
    "\n",
    "import copy\n",
    "import collections\n",
    "from operator import attrgetter\n",
    "from lightgbm import callback, Booster, Dataset\n",
    "from lightgbm.compat import string_type, integer_types, range_, zip_\n",
    "from lightgbm.engine import _make_n_folds, _agg_cv_result\n",
    "\n",
    "import scipy.stats.stats as stats\n",
    "import pandas.core.algorithms as algos"
   ]
  },
  {
   "cell_type": "markdown",
   "metadata": {},
   "source": [
    "import importlib\n",
    "importlib.reload(UMR)"
   ]
  },
  {
   "cell_type": "code",
   "execution_count": 3,
   "metadata": {},
   "outputs": [],
   "source": [
    "# We cast each fields of our input data set to a proper data type using the variable \"typee\"\n",
    "typee = {'ID_CUID': 'uint32',\n",
    " 'CA_F_CLX_ELIGIBLE': 'uint8',\n",
    " 'CA_LIMIT_OF': 'float64',\n",
    " 'CA_MAXINST_OF': 'float32',\n",
    " 'CA_AVAILABLE_LIMIT': 'float64',\n",
    " 'CA_GLOBAL_LIMIT': 'float64',\n",
    " 'CA_OFFER_2_AVAIL': 'float64',\n",
    " 'CA_TENOR_MAX': 'float64',\n",
    " 'CA_TENOR_MIN': 'float64',\n",
    " 'APL_F_CL_BOD01_1M': 'float16',\n",
    " 'APL_F_CL_BOD02_1M': 'float16',\n",
    " 'APL_F_CL_APPROVE_1M': 'float16',\n",
    " 'APL_F_CL_SIGN_1M': 'float16',\n",
    " 'APL_F_POS_BOD01_1M': 'float16',\n",
    " 'APL_F_POS_APPROVE_1M': 'float16',\n",
    " 'APL_F_POS_SIGN_1M': 'float16',\n",
    " 'APL_F_CC_BOD01_1M': 'float16',\n",
    " 'APL_F_CC_BOD02_1M': 'float16',\n",
    " 'APL_F_CC_APPROVE_1M': 'float16',\n",
    " 'APL_F_CC_SIGN_1M': 'float16',\n",
    " 'APL_F_CL_BOD01_3M': 'float16',\n",
    " 'APL_F_CL_BOD02_3M': 'float16',\n",
    " 'APL_F_CL_APPROVE_3M': 'float16',\n",
    " 'APL_F_CL_SIGN_3M': 'float16',\n",
    " 'APL_F_POS_BOD01_3M': 'float16',\n",
    " 'APL_F_POS_APPROVE_3M': 'float16',\n",
    " 'APL_F_POS_SIGN_3M': 'float16',\n",
    " 'APL_F_CC_BOD01_3M': 'float16',\n",
    " 'APL_F_CC_BOD02_3M': 'float16',\n",
    " 'APL_F_CC_APPROVE_3M': 'float16',\n",
    " 'APL_F_CC_SIGN_3M': 'float16',\n",
    " 'APL_CNT_BOD01_1M': 'float16',\n",
    " 'APL_CNT_BOD01_3M': 'float16',\n",
    " 'APL_CNT_BOD01_6M': 'float16',\n",
    " 'APL_CNT_BOD01_9M': 'float16',\n",
    " 'APL_CNT_BOD01_12M': 'float16',\n",
    " 'APL_CNT_CLX_APPROVE': 'float16',\n",
    " 'APL_CNT_CLW_APPROVE': 'float16',\n",
    " 'APL_CNT_CLX_SIGN': 'float16',\n",
    " 'APL_CNT_CLW_SIGN': 'float16',\n",
    " 'APL_CNT_POS_APPROVE': 'float16',\n",
    " 'APL_CNT_POS_SIGN': 'float16',\n",
    " 'APL_POS_SIGN_VOL': 'float64',\n",
    " 'APL_POS_SIGN_VOL_WOI': 'float64',\n",
    " 'APL_CNT_CLX_ACTIVE': 'float16',\n",
    " 'APL_CNT_CLW_ACTIVE': 'float16',\n",
    " 'APL_CNT_POS_ACTIVE': 'float16',\n",
    " 'APL_CNT_CC_ACTIVE': 'float16',\n",
    " 'APL_CNT_HAS_DELIQUENCY': 'float16',\n",
    " 'CM_F_APT_1M': 'float16',\n",
    " 'CM_F_APT_3M': 'float16',\n",
    " 'TR_F_FIRST_TRAN_POS_1M': 'uint8',\n",
    " 'TR_F_FIRST_TRAN_POS_3M': 'uint8',\n",
    " 'TR_F_FIRST_TRAN_1M': 'uint8',\n",
    " 'TR_F_FIRST_TRAN_3M': 'uint8',\n",
    " 'TR_CNT_M_FROM_TRANS_FIRST': 'float16',\n",
    " 'TR_CNT_M_FROM_TRANS_LAST': 'float16',\n",
    " 'CNT_WEB_APP_MONTHS_LOGIN_LAST': 'uint8',\n",
    " 'CNT_WEB_APP_MONTHS_OFFER_TAB': 'uint8',\n",
    " 'CM_CNT_ATTEMPT_OUT_TLM_1M': 'float16',\n",
    " 'CM_CNT_ATTEMPT_OUT_TLM_3M': 'float16',\n",
    " 'CM_CNT_ATTEMPT_OUT_TLM_6M': 'float16',\n",
    " 'CM_CNT_ATTEMPT_OUT_TLM_9M': 'float16',\n",
    " 'CM_CNT_ATTEMPT_OUT_TLM_12M': 'float16',\n",
    " 'CM_CNT_ATTEMPT_OUT_TLM': 'float16',\n",
    " 'CM_CNT_CONN_OUT_TLM_1M': 'float16',\n",
    " 'CM_CNT_CONN_OUT_TLM_3M': 'float16',\n",
    " 'CM_CNT_CONN_OUT_TLM_6M': 'float16',\n",
    " 'CM_CNT_CONN_OUT_TLM_9M': 'float16',\n",
    " 'CM_CNT_CONN_OUT_TLM_12M': 'float16',\n",
    " 'CM_CNT_CONN_OUT_TLM': 'float16',\n",
    " 'CM_CNT_CONNECTED_RPC_TLM_1M': 'float16',\n",
    " 'CM_CNT_CONNECTED_RPC_TLM_3M': 'float16',\n",
    " 'CM_CNT_CONNECTED_RPC_TLM_6M': 'float16',\n",
    " 'CM_CNT_CONNECTED_RPC_TLM_9M': 'float16',\n",
    " 'CM_CNT_CONNECTED_RPC_TLM_12M': 'float16',\n",
    " 'CM_CNT_CONNECTED_RPC_TLM': 'float16',\n",
    " 'CM_CNT_ATTEMPT_FAILED_TLM_1M': 'uint8',\n",
    " 'CM_CNT_ATTEMPT_FAILED_TLM_3M': 'uint8',\n",
    " 'CM_CNT_ATTEMPT_FAILED_TLM_6M': 'uint8',\n",
    " 'CM_CNT_ATTEMPT_FAILED_TLM_9M': 'uint8',\n",
    " 'CM_CNT_ATTEMPT_FAILED_TLM_12M': 'uint8',\n",
    " 'CM_CNT_ATTEMPT_FAILED_TLM': 'uint8',\n",
    " 'CM_CNT_ATTEMPT_TLM_1M': 'float16',\n",
    " 'CM_CNT_ATTEMPT_TLM_3M': 'float16',\n",
    " 'CM_CNT_ATTEMPT_TLM_6M': 'float16',\n",
    " 'CM_CNT_ATTEMPT_TLM_9M': 'float16',\n",
    " 'CM_CNT_ATTEMPT_TLM_12M': 'float16',\n",
    " 'CM_CNT_INB_TLM_1M': 'float16',\n",
    " 'CM_CNT_INB_TLM_3M': 'float16',\n",
    " 'CM_CNT_INB_TLM_6M': 'float16',\n",
    " 'CM_CNT_INB_TLM_9M': 'float16',\n",
    " 'CM_CNT_INB_TLM_12M': 'float16',\n",
    " 'CM_CNT_RESULT_REFUSED_TLM_1M': 'uint8',\n",
    " 'CM_CNT_RESULT_REFUSED_TLM_3M': 'uint8',\n",
    " 'CM_CNT_RESULT_REFUSED_TLM_6M': 'uint8',\n",
    " 'CM_CNT_RESULT_REFUSED_TLM_9M': 'uint8',\n",
    " 'CM_CNT_RESULT_REFUSED_TLM_12M': 'uint8',\n",
    " 'CM_CNT_RESULT_REFUSED_TLM': 'uint8',\n",
    " 'CM_CNT_SMS_CLX_1M': 'uint8',\n",
    " 'CM_CNT_SMS_CLX_3M': 'uint8',\n",
    " 'CM_CNT_SMS_CLX_6M': 'uint8',\n",
    " 'CM_CNT_SMS_CLX_9M': 'uint8',\n",
    " 'CM_CNT_SMS_CLX_12M': 'uint8',\n",
    " 'DI_FAILE_1M': 'uint8',\n",
    " 'DI_FAILE_3M': 'uint16',\n",
    " 'DI_FAILE_6M': 'uint16',\n",
    " 'DI_FAILE_9M': 'uint16',\n",
    " 'DI_FAILE_12M': 'uint16',\n",
    " 'DI_FAILE': 'uint16',\n",
    " 'SOC_CLI_AGE': 'float16',\n",
    " 'SOC_STAGE': 'float32',\n",
    " 'SOC_CNT_CLI_CHILD': 'float16',\n",
    " 'SOC_CLI_INCOME_TOTAL': 'float64',\n",
    " 'APL_CNT_M_FROM_LAST_BOD01': 'float16',\n",
    " 'SKP_CREDIT_CASE_LAST_BOD01': 'float64',\n",
    " 'APL_CNT_CC_ACTIVE_CURRENT': 'float16',\n",
    " 'APL_CNT_M_FROM_FIRST_ACTIVE': 'float16',\n",
    " 'APL_CNT_M_FROM_LAST_ACTIVE': 'float16',\n",
    " 'APL_MIN_SIGN_VOL': 'float64',\n",
    " 'APL_MAX_SIGN_VOL': 'float64',\n",
    " 'APL_AVG_SIGN_VOL': 'float64',\n",
    " 'APL_AVG_TENOR_PLAN': 'float16',\n",
    " 'APL_AVG_TENOR_FACT': 'float16',\n",
    " 'APL_CNT_MFLC': 'float32',\n",
    " 'APL_TOTAL_POS_DEBT_VOL_CURRENT': 'float32',\n",
    " 'APL_TOTAL_CL_DEBT_VOL_CURRENT': 'float64',\n",
    " 'APL_CNT_CLX_ACTIVE_CURRENT': 'float16',\n",
    " 'APL_CNT_CLW_ACTIVE_CURRENT': 'float16',\n",
    " 'APL_CNT_POS_ACTIVE_CURRENT': 'float16',\n",
    " 'APL_MAX_POS_IR': 'float32',\n",
    " 'APL_MIN_POS_IR': 'float32',\n",
    " 'APL_MAX_CLX_IR': 'float32',\n",
    " 'APL_MIN_CLX_IR': 'float32',\n",
    " 'APL_MAX_CLW_IR': 'float16',\n",
    " 'APL_MIN_CLW_IR': 'float16',\n",
    " 'APL_CNT_M_FROM_APPROVE_FIRST': 'float16',\n",
    " 'APL_CNT_M_FROM_APPROVE_LAST': 'float16',\n",
    " 'COLL_ANNUITY_TOTAL_CURRENT': 'float32',\n",
    " 'COLL_CNT_EARLY_CL': 'float16',\n",
    " 'COLL_CNT_EARLY_POS': 'float16',\n",
    " 'COLL_CNT_M_FROM_FIRST_DUE': 'float16',\n",
    " 'COLL_CNT_M_FROM_LAST_DUE': 'float16',\n",
    " 'PCB_CNT_MOB_FROM_FIRST_LOAN': 'float16',\n",
    " 'PCB_CNT_MOB_FROM_LAST_LOAN': 'float16',\n",
    " 'PCB_CNT_MOB_FROM_FIRST_CL': 'float16',\n",
    " 'PCB_CNT_MOB_FROM_LAST_CL': 'float16',\n",
    " 'PCB_CNT_MOB_FROM_FIRST_LOAN_HC': 'float16',\n",
    " 'PCB_CNT_MOB_FROM_LAST_LOAN_HC': 'float16',\n",
    " 'PCB_CNT_MOB_FROM_FIRST_CL_HC': 'float16',\n",
    " 'PCB_CNT_MOB_FROM_LAST_CL_HC': 'float16',\n",
    " 'PCB_AVG_VIETTEL_TELCO_SCORE': 'float32',\n",
    " 'PCB_AVG_MOBI_TELCO_SCORE': 'float32',\n",
    " 'PCB_AVG_VINA_CREDIT_SCORE': 'float32',\n",
    " 'CIC_CNT_APL_ACTIVE_AT_LAST_POS': 'float16',\n",
    " 'CIC_CURRENT_DEBT_VOL_AT_LAST_POS': 'float32',\n",
    " 'PCB_CNT_HIST_CONTRACT_12M_BW': 'uint8',\n",
    " 'PCB_CNT_HIST_NON_HOME_CONTRACT_12M_BW': 'uint8',\n",
    " 'PCB_CNT_CLX_LOAN_12M_BW': 'uint8',\n",
    " 'PCB_CNT_CLX_NON_HOME_LOAN_12M_BW': 'uint8',\n",
    " 'PCB_CNT_ACTIVE_LOAN': 'uint8',\n",
    " 'PCB_CNT_ACTIVE_LOAN_NON_HC': 'uint8',\n",
    " 'PCB_CNT_HIST_CONTRACT': 'uint8',\n",
    " 'PCB_CNT_HIST_NON_HOME_CONTRACT': 'uint8',\n",
    " 'PCB_CNT_CLX_LOAN': 'uint8',\n",
    " 'PCB_CNT_CLX_NON_HOME_LOAN': 'uint8',\n",
    " 'PCB_BALANCE_VOL_REMAINING': 'float64',\n",
    " 'PCB_CNT_TENOR_REMAINING': 'float16',\n",
    " 'PCB_AVG_SCORE': 'float16',\n",
    " 'PMT_CNT_TOTAL': 'uint8',\n",
    " 'PMT_CNT_TOTAL_12M': 'uint8',\n",
    " 'PMT_MAX_AMT': 'float32',\n",
    " 'PMT_AVG_AMT': 'float32',\n",
    " 'FLAG_CAL_CONTRACT_SIGNED_1M': 'uint8',\n",
    " 'FLAG_CCX_CONTRACT_SIGNED_1M': 'uint8'}"
   ]
  },
  {
   "cell_type": "code",
   "execution_count": 4,
   "metadata": {},
   "outputs": [],
   "source": [
    "chunk_size = 100000\n",
    "\n",
    "chunk_container = pd.read_csv(\"MODELLING_DATA.csv\", chunksize=chunk_size, dtype = typee)\n",
    "for chunk in chunk_container:\n",
    "    df_data = chunk\n",
    "    chunk.to_csv(\"MODELLING_DATA_SUB.csv\", index=False)\n",
    "    break\n"
   ]
  },
  {
   "cell_type": "code",
   "execution_count": 5,
   "metadata": {
    "ExecuteTime": {
     "end_time": "2019-03-28T12:28:02.344730Z",
     "start_time": "2019-03-28T12:27:17.317801Z"
    }
   },
   "outputs": [
    {
     "data": {
      "application/vnd.jupyter.widget-view+json": {
       "model_id": "de60c2bce865474abc52407a72215bca",
       "version_major": 2,
       "version_minor": 0
      },
      "text/plain": [
       "HBox(children=(FloatProgress(value=0.0, max=3.0), HTML(value='')))"
      ]
     },
     "metadata": {},
     "output_type": "display_data"
    },
    {
     "name": "stdout",
     "output_type": "stream",
     "text": [
      "\n"
     ]
    },
    {
     "data": {
      "application/vnd.jupyter.widget-view+json": {
       "model_id": "5c595ed15d9143ac8404148d80796711",
       "version_major": 2,
       "version_minor": 0
      },
      "text/plain": [
       "HBox(children=(FloatProgress(value=0.0, max=15.0), HTML(value='')))"
      ]
     },
     "metadata": {},
     "output_type": "display_data"
    },
    {
     "name": "stdout",
     "output_type": "stream",
     "text": [
      "\n"
     ]
    }
   ],
   "source": [
    "# try to shorten the columns having long data types\n",
    "for i in tqdm_notebook(df_data.columns[df_data.dtypes=='int64']):\n",
    "    df_data[i] = pd.to_numeric(df_data[i], downcast='integer')\n",
    "\n",
    "for i in tqdm_notebook(df_data.columns[df_data.dtypes=='float64']):\n",
    "    df_data[i] = pd.to_numeric(df_data[i], downcast='float')"
   ]
  },
  {
   "cell_type": "code",
   "execution_count": 6,
   "metadata": {
    "scrolled": true
   },
   "outputs": [
    {
     "name": "stdout",
     "output_type": "stream",
     "text": [
      "<class 'pandas.core.frame.DataFrame'>\n",
      "RangeIndex: 100000 entries, 0 to 99999\n",
      "Columns: 191 entries, ID_CUID to FLAG_CCX_CONTRACT_SIGNED_1M\n",
      "dtypes: float16(99), float32(30), int8(3), object(21), uint32(1), uint8(37)\n",
      "memory usage: 50.5+ MB\n"
     ]
    }
   ],
   "source": [
    "df_data.info()"
   ]
  },
  {
   "cell_type": "markdown",
   "metadata": {},
   "source": [
    "# Look at data"
   ]
  },
  {
   "cell_type": "code",
   "execution_count": 7,
   "metadata": {},
   "outputs": [
    {
     "data": {
      "text/plain": [
       "Index(['ID_CUID', 'EFFECTIVE_DATE', 'REPORT_DATE', 'RUN_DATE', 'CA_START_DT',\n",
       "       'CA_OFFER_TYPE_CODE', 'CA_F_CLX_ELIGIBLE', 'CA_LIMIT_OF',\n",
       "       'CA_MAXINST_OF', 'CA_RBP_OF',\n",
       "       ...\n",
       "       'PCB_CNT_CLX_LOAN', 'PCB_CNT_CLX_NON_HOME_LOAN',\n",
       "       'PCB_BALANCE_VOL_REMAINING', 'PCB_CNT_TENOR_REMAINING', 'PCB_AVG_SCORE',\n",
       "       'SC_GR', 'FLAG_SIGN_WO_CANCEL', 'FLAG_BEFORE_REPORT',\n",
       "       'FLAG_CAL_CONTRACT_SIGNED_1M', 'FLAG_CCX_CONTRACT_SIGNED_1M'],\n",
       "      dtype='object', length=191)"
      ]
     },
     "execution_count": 7,
     "metadata": {},
     "output_type": "execute_result"
    }
   ],
   "source": [
    "# Define default parameters of displaying tabular data\n",
    "from IPython.display import display, Markdown\n",
    "pd.options.display.max_columns = 15\n",
    "pd.options.display.max_rows = 15\n",
    "df_data.columns"
   ]
  },
  {
   "cell_type": "markdown",
   "metadata": {},
   "source": [
    "# Preproc data "
   ]
  },
  {
   "cell_type": "code",
   "execution_count": 8,
   "metadata": {
    "ExecuteTime": {
     "end_time": "2019-03-28T12:29:03.735353Z",
     "start_time": "2019-03-28T12:29:03.728148Z"
    }
   },
   "outputs": [],
   "source": [
    "#give a unique name to your model, all files created in process of modelling will have names ended on the unique_name\n",
    "unique_name = '_cl'"
   ]
  },
  {
   "cell_type": "code",
   "execution_count": 9,
   "metadata": {},
   "outputs": [],
   "source": [
    "#predictors from ADM to use\n",
    "cols_pred=[  'CA_OFFER_TYPE_CODE', 'CA_F_CLX_ELIGIBLE', 'CA_LIMIT_OF', 'CA_MAXINST_OF', 'CA_RBP_OF', 'CA_PROD_PRI_GR', \n",
    "            'CA_TENOR_MAX', 'CA_TENOR_MIN', 'APL_F_CL_BOD01_1M', 'APL_F_CL_BOD02_1M',\n",
    "           'APL_F_CL_APPROVE_1M', 'APL_F_CL_SIGN_1M', 'APL_F_POS_BOD01_1M', 'APL_F_POS_APPROVE_1M', 'APL_F_POS_SIGN_1M', 'APL_F_CC_BOD01_1M', \n",
    "           'APL_F_CC_BOD02_1M', 'APL_F_CC_APPROVE_1M', 'APL_F_CC_SIGN_1M', 'APL_F_CL_BOD01_3M', 'APL_F_CL_BOD02_3M', 'APL_F_CL_APPROVE_3M',\n",
    "           'APL_F_CL_SIGN_3M', 'APL_F_POS_BOD01_3M', 'APL_F_POS_APPROVE_3M', 'APL_F_POS_SIGN_3M', 'APL_F_CC_BOD01_3M', 'APL_F_CC_BOD02_3M', \n",
    "           'APL_F_CC_APPROVE_3M', 'APL_F_CC_SIGN_3M', 'APL_CNT_BOD01_1M', 'APL_CNT_BOD01_3M', 'APL_CNT_BOD01_6M', 'APL_CNT_BOD01_9M', \n",
    "           'APL_CNT_BOD01_12M', 'APL_CNT_CLX_APPROVE', 'APL_CNT_CLW_APPROVE', 'APL_CNT_CLX_SIGN', 'APL_CNT_CLW_SIGN', 'APL_CNT_POS_APPROVE', \n",
    "           'APL_CNT_POS_SIGN', 'APL_POS_SIGN_VOL', 'APL_POS_SIGN_VOL_WOI', 'APL_CNT_CLX_ACTIVE', 'APL_CNT_CLW_ACTIVE', 'APL_CNT_POS_ACTIVE', \n",
    "           'APL_CNT_CC_ACTIVE', 'APL_CNT_HAS_DELIQUENCY', 'CM_F_APT_1M', 'CM_F_APT_3M', 'TR_F_FIRST_TRAN_POS_1M',\n",
    "           'TR_F_FIRST_TRAN_POS_3M', 'TR_F_FIRST_TRAN_1M', 'TR_F_FIRST_TRAN_3M', 'TR_CNT_M_FROM_TRANS_FIRST', 'TR_CNT_M_FROM_TRANS_LAST',\n",
    "           'CNT_WEB_APP_MONTHS_LOGIN_LAST', 'CNT_WEB_APP_MONTHS_OFFER_TAB', 'CM_CNT_ATTEMPT_OUT_TLM_1M', 'CM_CNT_ATTEMPT_OUT_TLM_3M', \n",
    "           'CM_CNT_ATTEMPT_OUT_TLM_6M', 'CM_CNT_ATTEMPT_OUT_TLM_9M', 'CM_CNT_ATTEMPT_OUT_TLM_12M', 'CM_CNT_ATTEMPT_OUT_TLM', \n",
    "           'CM_CNT_CONN_OUT_TLM_1M', 'CM_CNT_CONN_OUT_TLM_3M', 'CM_CNT_CONN_OUT_TLM_6M', 'CM_CNT_CONN_OUT_TLM_9M', 'CM_CNT_CONN_OUT_TLM_12M', \n",
    "           'CM_CNT_CONN_OUT_TLM', 'CM_CNT_CONNECTED_RPC_TLM_1M', 'CM_CNT_CONNECTED_RPC_TLM_3M', 'CM_CNT_CONNECTED_RPC_TLM_6M', \n",
    "           'CM_CNT_CONNECTED_RPC_TLM_9M', 'CM_CNT_CONNECTED_RPC_TLM_12M', 'CM_CNT_CONNECTED_RPC_TLM', 'CM_CNT_ATTEMPT_FAILED_TLM_1M', \n",
    "           'CM_CNT_ATTEMPT_FAILED_TLM_3M', 'CM_CNT_ATTEMPT_FAILED_TLM_6M', 'CM_CNT_ATTEMPT_FAILED_TLM_9M', 'CM_CNT_ATTEMPT_FAILED_TLM_12M', \n",
    "           'CM_CNT_ATTEMPT_FAILED_TLM', 'CM_CNT_ATTEMPT_TLM_1M', 'CM_CNT_ATTEMPT_TLM_3M', 'CM_CNT_ATTEMPT_TLM_6M', 'CM_CNT_ATTEMPT_TLM_9M',\n",
    "           'CM_CNT_ATTEMPT_TLM_12M', 'CM_CNT_INB_TLM_1M', 'CM_CNT_INB_TLM_3M', 'CM_CNT_INB_TLM_6M', 'CM_CNT_INB_TLM_9M', 'CM_CNT_INB_TLM_12M',\n",
    "           'CM_CNT_RESULT_REFUSED_TLM_1M', 'CM_CNT_RESULT_REFUSED_TLM_3M', 'CM_CNT_RESULT_REFUSED_TLM_6M', 'CM_CNT_RESULT_REFUSED_TLM_9M', \n",
    "           'CM_CNT_RESULT_REFUSED_TLM_12M', 'CM_CNT_RESULT_REFUSED_TLM', 'SOC_CLI_AGE', 'SOC_CLI_GENDER', 'SOC_SK_CLI_INCOME_TYPE', 'SOC_CLI_JOB', \n",
    "           'SOC_STAGE', 'SOC_CLI_INCOME_TOTAL', 'SOC_CLI_EDUCATION', 'SOC_CLI_CONTACT_REGION', 'SOC_CLI_MARITAL_STATUS'\n",
    "           ,'SOC_CLI_AGE_GR', 'SOC_CLI_INCOME_GR', 'SOC_REGION_POPULATION_GR', 'SOC_CLI_CONTACT_REGION_LEVEL', 'SOC_CLI_EDUCATION_GR'\n",
    "           , 'APL_CNT_M_FROM_LAST_BOD01', 'APL_STATUS_LAST_BOD01', 'APL_CNT_CC_ACTIVE_CURRENT',\n",
    "           'APL_CNT_M_FROM_FIRST_ACTIVE', 'APL_CNT_M_FROM_LAST_ACTIVE', 'APL_MIN_SIGN_VOL', 'APL_MAX_SIGN_VOL', 'APL_AVG_SIGN_VOL',\n",
    "           'APL_AVG_TENOR_PLAN', 'APL_AVG_TENOR_FACT', 'APL_CNT_MFLC', 'APL_TOTAL_POS_DEBT_VOL_CURRENT', 'APL_TOTAL_CL_DEBT_VOL_CURRENT', \n",
    "           'APL_CNT_CLX_ACTIVE_CURRENT', 'APL_CNT_CLW_ACTIVE_CURRENT', 'APL_CNT_POS_ACTIVE_CURRENT', 'APL_MAX_POS_IR', 'APL_MIN_POS_IR', \n",
    "           'APL_MAX_CLX_IR', 'APL_MIN_CLX_IR', 'APL_MAX_CLW_IR', 'APL_MIN_CLW_IR', 'APL_CNT_M_FROM_APPROVE_FIRST', 'APL_CNT_M_FROM_APPROVE_LAST',\n",
    "           'COLL_ANNUITY_TOTAL_CURRENT', 'COLL_CNT_EARLY_CL', 'COLL_CNT_EARLY_POS', 'COLL_CNT_M_FROM_FIRST_DUE', 'COLL_CNT_M_FROM_LAST_DUE', \n",
    "           'PCB_CNT_MOB_FROM_FIRST_LOAN', 'PCB_CNT_MOB_FROM_LAST_LOAN', 'PCB_CNT_MOB_FROM_FIRST_CL', 'PCB_CNT_MOB_FROM_LAST_CL', \n",
    "           'PCB_CNT_MOB_FROM_FIRST_LOAN_HC', 'PCB_CNT_MOB_FROM_LAST_LOAN_HC', 'PCB_CNT_MOB_FROM_FIRST_CL_HC', 'PCB_CNT_MOB_FROM_LAST_CL_HC',\n",
    "           'PCB_AVG_VIETTEL_TELCO_SCORE', 'PCB_AVG_MOBI_TELCO_SCORE', 'PCB_AVG_VINA_CREDIT_SCORE', 'CIC_CNT_APL_ACTIVE_AT_LAST_POS', \n",
    "           'CIC_CURRENT_DEBT_VOL_AT_LAST_POS', 'PCB_CNT_HIST_CONTRACT_12M_BW', 'PCB_CNT_HIST_NON_HOME_CONTRACT_12M_BW', 'PCB_CNT_CLX_LOAN_12M_BW',\n",
    "           'PCB_CNT_CLX_NON_HOME_LOAN_12M_BW', 'PCB_CNT_ACTIVE_LOAN', 'PCB_CNT_ACTIVE_LOAN_NON_HC', 'PCB_CNT_HIST_CONTRACT', \n",
    "           'PCB_CNT_HIST_NON_HOME_CONTRACT', 'PCB_CNT_CLX_LOAN', 'PCB_CNT_CLX_NON_HOME_LOAN', 'PCB_BALANCE_VOL_REMAINING', 'PCB_CNT_TENOR_REMAINING', \n",
    "           'PCB_AVG_SCORE','PMT_CNT_TOTAL','PMT_MAX_AMT','PMT_AVG_AMT']"
   ]
  },
  {
   "cell_type": "code",
   "execution_count": 2,
   "metadata": {
    "ExecuteTime": {
     "end_time": "2019-03-28T12:29:08.124917Z",
     "start_time": "2019-03-28T12:29:05.354074Z"
    }
   },
   "outputs": [
    {
     "ename": "NameError",
     "evalue": "name 'unique_name' is not defined",
     "output_type": "error",
     "traceback": [
      "\u001b[0;31m---------------------------------------------------------------------------\u001b[0m",
      "\u001b[0;31mNameError\u001b[0m                                 Traceback (most recent call last)",
      "\u001b[0;32m<ipython-input-2-545f79546a38>\u001b[0m in \u001b[0;36m<module>\u001b[0;34m\u001b[0m\n\u001b[1;32m      7\u001b[0m \u001b[0;34m\u001b[0m\u001b[0m\n\u001b[1;32m      8\u001b[0m \u001b[0;31m# declare a function optimizing varchar variable to categorical ones\u001b[0m\u001b[0;34m\u001b[0m\u001b[0;34m\u001b[0m\u001b[0;34m\u001b[0m\u001b[0m\n\u001b[0;32m----> 9\u001b[0;31m \u001b[0;32mdef\u001b[0m \u001b[0mprepare_cat_feat_label\u001b[0m\u001b[0;34m(\u001b[0m\u001b[0mdf\u001b[0m\u001b[0;34m,\u001b[0m \u001b[0msave_dict\u001b[0m\u001b[0;34m=\u001b[0m\u001b[0;32mNone\u001b[0m\u001b[0;34m,\u001b[0m \u001b[0mcategories\u001b[0m\u001b[0;34m=\u001b[0m\u001b[0;32mNone\u001b[0m\u001b[0;34m,\u001b[0m \u001b[0mfile_name\u001b[0m\u001b[0;34m=\u001b[0m\u001b[0;34m'categories'\u001b[0m \u001b[0;34m+\u001b[0m \u001b[0munique_name\u001b[0m\u001b[0;34m)\u001b[0m\u001b[0;34m:\u001b[0m\u001b[0;34m\u001b[0m\u001b[0;34m\u001b[0m\u001b[0m\n\u001b[0m\u001b[1;32m     10\u001b[0m     \"\"\"\n\u001b[1;32m     11\u001b[0m \u001b[0;34m\u001b[0m\u001b[0m\n",
      "\u001b[0;31mNameError\u001b[0m: name 'unique_name' is not defined"
     ]
    }
   ],
   "source": [
    "#preprocessing\n",
    "cols_to_drop = []\n",
    "\n",
    "cols_to_log = []\n",
    "\n",
    "cols_to_fix = {}\n",
    "\n",
    "# declare a function optimizing varchar variable to categorical ones\n",
    "def prepare_cat_feat_label(df, save_dict=None, categories=None, file_name='categories' + unique_name):\n",
    "    \"\"\"\n",
    "    \n",
    "    \"\"\"\n",
    "    \n",
    "    ret_data = df.copy() \n",
    "    # Getting varchar variables\n",
    "    categorical_features = get_cat_feats(ret_data)\n",
    "    categories_dic = {}\n",
    "    \n",
    "    if len(categorical_features)>0:\n",
    "        for feature in categorical_features:\n",
    "                categories_dic[feature] = pd.Categorical(ret_data[feature]).categories\n",
    "                \n",
    "                if categories is not None:\n",
    "                     ret_data[feature] = pd.Categorical(ret_data[feature], categories=categories[feature])\n",
    "                else:\n",
    "                    ret_data[feature] = pd.Categorical(ret_data[feature])\n",
    "                    \n",
    "                ret_data[feature] = ret_data[feature].cat.codes\n",
    "            \n",
    "        if save_dict:\n",
    "            pickle.dump(categories_dic, open('{}.dat'.format(file_name), 'wb'))\n",
    "                \n",
    "        print('   label encoding done...')             \n",
    "            \n",
    "    print ('   ...ok')\n",
    "    return ret_data\n",
    "\n",
    "# function returning a list of varchar variables\n",
    "def get_cat_feats(ret_data, ids=False):\n",
    "    \"\"\"\n",
    "    \"\"\"\n",
    "    \n",
    "    categorical_features_objects = ret_data.columns[ret_data.dtypes=='object']\n",
    "    categorical_features_SK = ret_data.filter(regex='.*SK.?_').columns\n",
    "\n",
    "    if len(categorical_features_objects)>0:\n",
    "        ret_data[categorical_features_objects]=ret_data[categorical_features_objects].apply(lambda x: x.astype(str).str.upper())\n",
    "\n",
    "    h_added_columns=[]\n",
    "\n",
    "    categorical_features = np.concatenate([categorical_features_objects,\n",
    "                                           categorical_features_SK,\n",
    "                                           h_added_columns])\n",
    "    \n",
    "    return list(sorted(map(lambda x: ret_data.columns.get_loc(x), categorical_features))) if ids else categorical_features"
   ]
  },
  {
   "cell_type": "code",
   "execution_count": 11,
   "metadata": {
    "ExecuteTime": {
     "end_time": "2019-03-28T12:30:31.359674Z",
     "start_time": "2019-03-28T12:29:09.328794Z"
    }
   },
   "outputs": [
    {
     "name": "stdout",
     "output_type": "stream",
     "text": [
      "   label encoding done...\n",
      "   ...ok\n"
     ]
    }
   ],
   "source": [
    "# Preprocess data using the functions declared above\n",
    "data_full=df_data.fillna(-1)\n",
    "\n",
    "#data_full=prepare_data_fix_log(df_data, MAKE_LOG=False)\n",
    "data_full=prepare_cat_feat_label(data_full, save_dict=True)"
   ]
  },
  {
   "cell_type": "code",
   "execution_count": 12,
   "metadata": {},
   "outputs": [
    {
     "data": {
      "text/html": [
       "<div>\n",
       "<style scoped>\n",
       "    .dataframe tbody tr th:only-of-type {\n",
       "        vertical-align: middle;\n",
       "    }\n",
       "\n",
       "    .dataframe tbody tr th {\n",
       "        vertical-align: top;\n",
       "    }\n",
       "\n",
       "    .dataframe thead th {\n",
       "        text-align: right;\n",
       "    }\n",
       "</style>\n",
       "<table border=\"1\" class=\"dataframe\">\n",
       "  <thead>\n",
       "    <tr style=\"text-align: right;\">\n",
       "      <th></th>\n",
       "      <th>ID_CUID</th>\n",
       "      <th>EFFECTIVE_DATE</th>\n",
       "      <th>REPORT_DATE</th>\n",
       "      <th>RUN_DATE</th>\n",
       "      <th>CA_START_DT</th>\n",
       "      <th>CA_OFFER_TYPE_CODE</th>\n",
       "      <th>CA_F_CLX_ELIGIBLE</th>\n",
       "      <th>...</th>\n",
       "      <th>PCB_CNT_TENOR_REMAINING</th>\n",
       "      <th>PCB_AVG_SCORE</th>\n",
       "      <th>SC_GR</th>\n",
       "      <th>FLAG_SIGN_WO_CANCEL</th>\n",
       "      <th>FLAG_BEFORE_REPORT</th>\n",
       "      <th>FLAG_CAL_CONTRACT_SIGNED_1M</th>\n",
       "      <th>FLAG_CCX_CONTRACT_SIGNED_1M</th>\n",
       "    </tr>\n",
       "  </thead>\n",
       "  <tbody>\n",
       "    <tr>\n",
       "      <th>0</th>\n",
       "      <td>6160752</td>\n",
       "      <td>0</td>\n",
       "      <td>0</td>\n",
       "      <td>0</td>\n",
       "      <td>11</td>\n",
       "      <td>-1.0</td>\n",
       "      <td>1</td>\n",
       "      <td>...</td>\n",
       "      <td>-1.0</td>\n",
       "      <td>-1.0</td>\n",
       "      <td>15</td>\n",
       "      <td>1</td>\n",
       "      <td>1</td>\n",
       "      <td>0</td>\n",
       "      <td>0</td>\n",
       "    </tr>\n",
       "    <tr>\n",
       "      <th>1</th>\n",
       "      <td>8228212</td>\n",
       "      <td>0</td>\n",
       "      <td>0</td>\n",
       "      <td>0</td>\n",
       "      <td>10</td>\n",
       "      <td>-1.0</td>\n",
       "      <td>1</td>\n",
       "      <td>...</td>\n",
       "      <td>0.0</td>\n",
       "      <td>506.0</td>\n",
       "      <td>13</td>\n",
       "      <td>1</td>\n",
       "      <td>1</td>\n",
       "      <td>0</td>\n",
       "      <td>0</td>\n",
       "    </tr>\n",
       "    <tr>\n",
       "      <th>2</th>\n",
       "      <td>12744249</td>\n",
       "      <td>0</td>\n",
       "      <td>0</td>\n",
       "      <td>0</td>\n",
       "      <td>1</td>\n",
       "      <td>-1.0</td>\n",
       "      <td>1</td>\n",
       "      <td>...</td>\n",
       "      <td>-1.0</td>\n",
       "      <td>0.0</td>\n",
       "      <td>6</td>\n",
       "      <td>1</td>\n",
       "      <td>1</td>\n",
       "      <td>0</td>\n",
       "      <td>0</td>\n",
       "    </tr>\n",
       "    <tr>\n",
       "      <th>3</th>\n",
       "      <td>10409324</td>\n",
       "      <td>0</td>\n",
       "      <td>0</td>\n",
       "      <td>0</td>\n",
       "      <td>5</td>\n",
       "      <td>-1.0</td>\n",
       "      <td>1</td>\n",
       "      <td>...</td>\n",
       "      <td>-1.0</td>\n",
       "      <td>-1.0</td>\n",
       "      <td>14</td>\n",
       "      <td>1</td>\n",
       "      <td>1</td>\n",
       "      <td>0</td>\n",
       "      <td>0</td>\n",
       "    </tr>\n",
       "    <tr>\n",
       "      <th>4</th>\n",
       "      <td>10218197</td>\n",
       "      <td>0</td>\n",
       "      <td>0</td>\n",
       "      <td>0</td>\n",
       "      <td>3</td>\n",
       "      <td>-1.0</td>\n",
       "      <td>1</td>\n",
       "      <td>...</td>\n",
       "      <td>0.0</td>\n",
       "      <td>494.0</td>\n",
       "      <td>14</td>\n",
       "      <td>1</td>\n",
       "      <td>1</td>\n",
       "      <td>0</td>\n",
       "      <td>0</td>\n",
       "    </tr>\n",
       "  </tbody>\n",
       "</table>\n",
       "<p>5 rows × 191 columns</p>\n",
       "</div>"
      ],
      "text/plain": [
       "    ID_CUID  EFFECTIVE_DATE  REPORT_DATE  RUN_DATE  CA_START_DT  \\\n",
       "0   6160752               0            0         0           11   \n",
       "1   8228212               0            0         0           10   \n",
       "2  12744249               0            0         0            1   \n",
       "3  10409324               0            0         0            5   \n",
       "4  10218197               0            0         0            3   \n",
       "\n",
       "   CA_OFFER_TYPE_CODE  CA_F_CLX_ELIGIBLE  ...  PCB_CNT_TENOR_REMAINING  \\\n",
       "0                -1.0                  1  ...                     -1.0   \n",
       "1                -1.0                  1  ...                      0.0   \n",
       "2                -1.0                  1  ...                     -1.0   \n",
       "3                -1.0                  1  ...                     -1.0   \n",
       "4                -1.0                  1  ...                      0.0   \n",
       "\n",
       "   PCB_AVG_SCORE  SC_GR  FLAG_SIGN_WO_CANCEL  FLAG_BEFORE_REPORT  \\\n",
       "0           -1.0     15                    1                   1   \n",
       "1          506.0     13                    1                   1   \n",
       "2            0.0      6                    1                   1   \n",
       "3           -1.0     14                    1                   1   \n",
       "4          494.0     14                    1                   1   \n",
       "\n",
       "   FLAG_CAL_CONTRACT_SIGNED_1M  FLAG_CCX_CONTRACT_SIGNED_1M  \n",
       "0                            0                            0  \n",
       "1                            0                            0  \n",
       "2                            0                            0  \n",
       "3                            0                            0  \n",
       "4                            0                            0  \n",
       "\n",
       "[5 rows x 191 columns]"
      ]
     },
     "execution_count": 12,
     "metadata": {},
     "output_type": "execute_result"
    }
   ],
   "source": [
    "data_full.head()"
   ]
  },
  {
   "cell_type": "code",
   "execution_count": 13,
   "metadata": {},
   "outputs": [
    {
     "data": {
      "text/plain": [
       "(170, 191, 170)"
      ]
     },
     "execution_count": 13,
     "metadata": {},
     "output_type": "execute_result"
    }
   ],
   "source": [
    "# checking if we didn't lose any field while preprocessing data (compare the intial and preprocessed data sets)\n",
    "len(cols_pred), len(data_full.columns), len(set(data_full.columns) & set(cols_pred))"
   ]
  },
  {
   "cell_type": "code",
   "execution_count": 15,
   "metadata": {
    "ExecuteTime": {
     "end_time": "2019-03-28T12:30:50.214310Z",
     "start_time": "2019-03-28T12:30:50.210063Z"
    }
   },
   "outputs": [],
   "source": [
    "# Defining a target attribute\n",
    "IND_NAME = 'FLAG_CAL_CONTRACT_SIGNED_1M' #target\n",
    "target = data_full[IND_NAME]"
   ]
  },
  {
   "cell_type": "code",
   "execution_count": 16,
   "metadata": {},
   "outputs": [],
   "source": [
    "# Combine predictors and target into one data set\n",
    "data = data_full[cols_pred+[IND_NAME]]"
   ]
  },
  {
   "cell_type": "code",
   "execution_count": 17,
   "metadata": {
    "ExecuteTime": {
     "end_time": "2019-03-28T12:30:34.305301Z",
     "start_time": "2019-03-28T12:30:33.516354Z"
    }
   },
   "outputs": [
    {
     "name": "stdout",
     "output_type": "stream",
     "text": [
      "(100000, 171)\n"
     ]
    },
    {
     "data": {
      "text/html": [
       "<div>\n",
       "<style scoped>\n",
       "    .dataframe tbody tr th:only-of-type {\n",
       "        vertical-align: middle;\n",
       "    }\n",
       "\n",
       "    .dataframe tbody tr th {\n",
       "        vertical-align: top;\n",
       "    }\n",
       "\n",
       "    .dataframe thead th {\n",
       "        text-align: right;\n",
       "    }\n",
       "</style>\n",
       "<table border=\"1\" class=\"dataframe\">\n",
       "  <thead>\n",
       "    <tr style=\"text-align: right;\">\n",
       "      <th></th>\n",
       "      <th>CA_OFFER_TYPE_CODE</th>\n",
       "      <th>CA_F_CLX_ELIGIBLE</th>\n",
       "      <th>CA_LIMIT_OF</th>\n",
       "      <th>CA_MAXINST_OF</th>\n",
       "      <th>CA_RBP_OF</th>\n",
       "      <th>CA_PROD_PRI_GR</th>\n",
       "      <th>CA_TENOR_MAX</th>\n",
       "      <th>...</th>\n",
       "      <th>PCB_BALANCE_VOL_REMAINING</th>\n",
       "      <th>PCB_CNT_TENOR_REMAINING</th>\n",
       "      <th>PCB_AVG_SCORE</th>\n",
       "      <th>PMT_CNT_TOTAL</th>\n",
       "      <th>PMT_MAX_AMT</th>\n",
       "      <th>PMT_AVG_AMT</th>\n",
       "      <th>FLAG_CAL_CONTRACT_SIGNED_1M</th>\n",
       "    </tr>\n",
       "  </thead>\n",
       "  <tbody>\n",
       "    <tr>\n",
       "      <th>0</th>\n",
       "      <td>-1.0</td>\n",
       "      <td>1</td>\n",
       "      <td>17338116.0</td>\n",
       "      <td>1015092.0</td>\n",
       "      <td>2</td>\n",
       "      <td>4</td>\n",
       "      <td>20000000.0</td>\n",
       "      <td>...</td>\n",
       "      <td>-1.0</td>\n",
       "      <td>-1.0</td>\n",
       "      <td>-1.0</td>\n",
       "      <td>4</td>\n",
       "      <td>960000.0</td>\n",
       "      <td>959500.0</td>\n",
       "      <td>0</td>\n",
       "    </tr>\n",
       "    <tr>\n",
       "      <th>1</th>\n",
       "      <td>-1.0</td>\n",
       "      <td>1</td>\n",
       "      <td>11000000.0</td>\n",
       "      <td>2598660.0</td>\n",
       "      <td>2</td>\n",
       "      <td>2</td>\n",
       "      <td>60000000.0</td>\n",
       "      <td>...</td>\n",
       "      <td>0.0</td>\n",
       "      <td>0.0</td>\n",
       "      <td>506.0</td>\n",
       "      <td>8</td>\n",
       "      <td>1264000.0</td>\n",
       "      <td>1261000.0</td>\n",
       "      <td>0</td>\n",
       "    </tr>\n",
       "    <tr>\n",
       "      <th>2</th>\n",
       "      <td>-1.0</td>\n",
       "      <td>1</td>\n",
       "      <td>200000000.0</td>\n",
       "      <td>11914759.0</td>\n",
       "      <td>0</td>\n",
       "      <td>0</td>\n",
       "      <td>200000000.0</td>\n",
       "      <td>...</td>\n",
       "      <td>-1.0</td>\n",
       "      <td>-1.0</td>\n",
       "      <td>0.0</td>\n",
       "      <td>6</td>\n",
       "      <td>3489000.0</td>\n",
       "      <td>3488833.0</td>\n",
       "      <td>0</td>\n",
       "    </tr>\n",
       "    <tr>\n",
       "      <th>3</th>\n",
       "      <td>-1.0</td>\n",
       "      <td>1</td>\n",
       "      <td>12000000.0</td>\n",
       "      <td>2096486.0</td>\n",
       "      <td>4</td>\n",
       "      <td>6</td>\n",
       "      <td>-1.0</td>\n",
       "      <td>...</td>\n",
       "      <td>-1.0</td>\n",
       "      <td>-1.0</td>\n",
       "      <td>-1.0</td>\n",
       "      <td>6</td>\n",
       "      <td>971000.0</td>\n",
       "      <td>971000.0</td>\n",
       "      <td>0</td>\n",
       "    </tr>\n",
       "    <tr>\n",
       "      <th>4</th>\n",
       "      <td>-1.0</td>\n",
       "      <td>1</td>\n",
       "      <td>15000000.0</td>\n",
       "      <td>2323125.0</td>\n",
       "      <td>2</td>\n",
       "      <td>4</td>\n",
       "      <td>20000000.0</td>\n",
       "      <td>...</td>\n",
       "      <td>0.0</td>\n",
       "      <td>0.0</td>\n",
       "      <td>494.0</td>\n",
       "      <td>4</td>\n",
       "      <td>1259000.0</td>\n",
       "      <td>1258500.0</td>\n",
       "      <td>0</td>\n",
       "    </tr>\n",
       "  </tbody>\n",
       "</table>\n",
       "<p>5 rows × 171 columns</p>\n",
       "</div>"
      ],
      "text/plain": [
       "   CA_OFFER_TYPE_CODE  CA_F_CLX_ELIGIBLE  CA_LIMIT_OF  CA_MAXINST_OF  \\\n",
       "0                -1.0                  1   17338116.0      1015092.0   \n",
       "1                -1.0                  1   11000000.0      2598660.0   \n",
       "2                -1.0                  1  200000000.0     11914759.0   \n",
       "3                -1.0                  1   12000000.0      2096486.0   \n",
       "4                -1.0                  1   15000000.0      2323125.0   \n",
       "\n",
       "   CA_RBP_OF  CA_PROD_PRI_GR  CA_TENOR_MAX  ...  PCB_BALANCE_VOL_REMAINING  \\\n",
       "0          2               4    20000000.0  ...                       -1.0   \n",
       "1          2               2    60000000.0  ...                        0.0   \n",
       "2          0               0   200000000.0  ...                       -1.0   \n",
       "3          4               6          -1.0  ...                       -1.0   \n",
       "4          2               4    20000000.0  ...                        0.0   \n",
       "\n",
       "   PCB_CNT_TENOR_REMAINING  PCB_AVG_SCORE  PMT_CNT_TOTAL  PMT_MAX_AMT  \\\n",
       "0                     -1.0           -1.0              4     960000.0   \n",
       "1                      0.0          506.0              8    1264000.0   \n",
       "2                     -1.0            0.0              6    3489000.0   \n",
       "3                     -1.0           -1.0              6     971000.0   \n",
       "4                      0.0          494.0              4    1259000.0   \n",
       "\n",
       "   PMT_AVG_AMT  FLAG_CAL_CONTRACT_SIGNED_1M  \n",
       "0     959500.0                            0  \n",
       "1    1261000.0                            0  \n",
       "2    3488833.0                            0  \n",
       "3     971000.0                            0  \n",
       "4    1258500.0                            0  \n",
       "\n",
       "[5 rows x 171 columns]"
      ]
     },
     "execution_count": 17,
     "metadata": {},
     "output_type": "execute_result"
    }
   ],
   "source": [
    "print(data.shape) # rows and columns\n",
    "data.head() # sample of data - 5 rows by default"
   ]
  },
  {
   "cell_type": "code",
   "execution_count": 20,
   "metadata": {
    "ExecuteTime": {
     "end_time": "2019-03-28T12:30:43.182044Z",
     "start_time": "2019-03-28T12:30:36.173433Z"
    }
   },
   "outputs": [
    {
     "name": "stdout",
     "output_type": "stream",
     "text": [
      "CA_OFFER_TYPE_CODE\n",
      "CA_F_CLX_ELIGIBLE\n",
      "TR_F_FIRST_TRAN_1M\n",
      "CNT_WEB_APP_MONTHS_OFFER_TAB\n"
     ]
    }
   ],
   "source": [
    "#delete consts\n",
    "i = 0\n",
    "not_consts = []\n",
    "for c in data.columns:\n",
    "    if c != IND_NAME and list(data[c].value_counts())[0]/len(data[c]) >= 0.9999: \n",
    "        print(c)\n",
    "        i += 1\n",
    "    else:\n",
    "        not_consts.append(c)"
   ]
  },
  {
   "cell_type": "code",
   "execution_count": 22,
   "metadata": {
    "ExecuteTime": {
     "end_time": "2019-03-28T12:30:47.628000Z",
     "start_time": "2019-03-28T12:30:47.156948Z"
    }
   },
   "outputs": [
    {
     "data": {
      "text/plain": [
       "(100000, 167)"
      ]
     },
     "execution_count": 22,
     "metadata": {},
     "output_type": "execute_result"
    }
   ],
   "source": [
    "data = data.loc[:, not_consts]\n",
    "data.shape"
   ]
  },
  {
   "cell_type": "code",
   "execution_count": 23,
   "metadata": {
    "ExecuteTime": {
     "end_time": "2019-03-28T12:30:49.096098Z",
     "start_time": "2019-03-28T12:30:48.977300Z"
    }
   },
   "outputs": [
    {
     "data": {
      "text/plain": [
       "60"
      ]
     },
     "execution_count": 23,
     "metadata": {},
     "output_type": "execute_result"
    }
   ],
   "source": [
    "gc.collect()"
   ]
  },
  {
   "cell_type": "code",
   "execution_count": 24,
   "metadata": {},
   "outputs": [
    {
     "data": {
      "text/plain": [
       "(0.00625, 625)"
      ]
     },
     "execution_count": 24,
     "metadata": {},
     "output_type": "execute_result"
    }
   ],
   "source": [
    "target.mean(), target.sum()"
   ]
  },
  {
   "cell_type": "code",
   "execution_count": 26,
   "metadata": {},
   "outputs": [
    {
     "name": "stdout",
     "output_type": "stream",
     "text": [
      "(100000, 167)\n"
     ]
    }
   ],
   "source": [
    "#create undersample\n",
    "zeros = list(data[data[IND_NAME] == 0].index)\n",
    "random.shuffle(zeros)\n",
    "data_oversample = pd.concat([data[data[IND_NAME] == 1], \n",
    "                              data.loc[zeros[:600000], :]], axis=0)\n",
    "print(data_oversample.shape)"
   ]
  },
  {
   "cell_type": "code",
   "execution_count": 28,
   "metadata": {},
   "outputs": [
    {
     "data": {
      "text/html": [
       "<div>\n",
       "<style scoped>\n",
       "    .dataframe tbody tr th:only-of-type {\n",
       "        vertical-align: middle;\n",
       "    }\n",
       "\n",
       "    .dataframe tbody tr th {\n",
       "        vertical-align: top;\n",
       "    }\n",
       "\n",
       "    .dataframe thead th {\n",
       "        text-align: right;\n",
       "    }\n",
       "</style>\n",
       "<table border=\"1\" class=\"dataframe\">\n",
       "  <thead>\n",
       "    <tr style=\"text-align: right;\">\n",
       "      <th></th>\n",
       "      <th>CA_LIMIT_OF</th>\n",
       "      <th>CA_MAXINST_OF</th>\n",
       "      <th>CA_RBP_OF</th>\n",
       "      <th>CA_PROD_PRI_GR</th>\n",
       "      <th>CA_TENOR_MAX</th>\n",
       "      <th>CA_TENOR_MIN</th>\n",
       "      <th>APL_F_CL_BOD01_1M</th>\n",
       "      <th>...</th>\n",
       "      <th>PCB_BALANCE_VOL_REMAINING</th>\n",
       "      <th>PCB_CNT_TENOR_REMAINING</th>\n",
       "      <th>PCB_AVG_SCORE</th>\n",
       "      <th>PMT_CNT_TOTAL</th>\n",
       "      <th>PMT_MAX_AMT</th>\n",
       "      <th>PMT_AVG_AMT</th>\n",
       "      <th>FLAG_CAL_CONTRACT_SIGNED_1M</th>\n",
       "    </tr>\n",
       "  </thead>\n",
       "  <tbody>\n",
       "    <tr>\n",
       "      <th>9275</th>\n",
       "      <td>27293896.0</td>\n",
       "      <td>1925607.0</td>\n",
       "      <td>4</td>\n",
       "      <td>4</td>\n",
       "      <td>40000000.0</td>\n",
       "      <td>20000000.0</td>\n",
       "      <td>-1.0</td>\n",
       "      <td>...</td>\n",
       "      <td>0.0</td>\n",
       "      <td>0.0</td>\n",
       "      <td>470.0</td>\n",
       "      <td>7</td>\n",
       "      <td>3000.0</td>\n",
       "      <td>1481143.0</td>\n",
       "      <td>0</td>\n",
       "    </tr>\n",
       "    <tr>\n",
       "      <th>39171</th>\n",
       "      <td>124972360.0</td>\n",
       "      <td>5688904.0</td>\n",
       "      <td>1</td>\n",
       "      <td>4</td>\n",
       "      <td>200000000.0</td>\n",
       "      <td>100000000.0</td>\n",
       "      <td>-1.0</td>\n",
       "      <td>...</td>\n",
       "      <td>-1.0</td>\n",
       "      <td>-1.0</td>\n",
       "      <td>-1.0</td>\n",
       "      <td>17</td>\n",
       "      <td>277000.0</td>\n",
       "      <td>898588.0</td>\n",
       "      <td>0</td>\n",
       "    </tr>\n",
       "    <tr>\n",
       "      <th>28415</th>\n",
       "      <td>119862496.0</td>\n",
       "      <td>5456828.0</td>\n",
       "      <td>1</td>\n",
       "      <td>4</td>\n",
       "      <td>200000000.0</td>\n",
       "      <td>100000000.0</td>\n",
       "      <td>-1.0</td>\n",
       "      <td>...</td>\n",
       "      <td>0.0</td>\n",
       "      <td>0.0</td>\n",
       "      <td>473.0</td>\n",
       "      <td>14</td>\n",
       "      <td>1438000.0</td>\n",
       "      <td>1338857.0</td>\n",
       "      <td>0</td>\n",
       "    </tr>\n",
       "    <tr>\n",
       "      <th>37886</th>\n",
       "      <td>53000000.0</td>\n",
       "      <td>6238795.0</td>\n",
       "      <td>2</td>\n",
       "      <td>1</td>\n",
       "      <td>60000000.0</td>\n",
       "      <td>40000000.0</td>\n",
       "      <td>-1.0</td>\n",
       "      <td>...</td>\n",
       "      <td>-1.0</td>\n",
       "      <td>-1.0</td>\n",
       "      <td>-1.0</td>\n",
       "      <td>30</td>\n",
       "      <td>2209000.0</td>\n",
       "      <td>2017300.0</td>\n",
       "      <td>0</td>\n",
       "    </tr>\n",
       "    <tr>\n",
       "      <th>67958</th>\n",
       "      <td>15000000.0</td>\n",
       "      <td>1200192.0</td>\n",
       "      <td>5</td>\n",
       "      <td>4</td>\n",
       "      <td>20000000.0</td>\n",
       "      <td>5000000.0</td>\n",
       "      <td>-1.0</td>\n",
       "      <td>...</td>\n",
       "      <td>-1.0</td>\n",
       "      <td>-1.0</td>\n",
       "      <td>-1.0</td>\n",
       "      <td>4</td>\n",
       "      <td>852000.0</td>\n",
       "      <td>851750.0</td>\n",
       "      <td>0</td>\n",
       "    </tr>\n",
       "  </tbody>\n",
       "</table>\n",
       "<p>5 rows × 167 columns</p>\n",
       "</div>"
      ],
      "text/plain": [
       "       CA_LIMIT_OF  CA_MAXINST_OF  CA_RBP_OF  CA_PROD_PRI_GR  CA_TENOR_MAX  \\\n",
       "9275    27293896.0      1925607.0          4               4    40000000.0   \n",
       "39171  124972360.0      5688904.0          1               4   200000000.0   \n",
       "28415  119862496.0      5456828.0          1               4   200000000.0   \n",
       "37886   53000000.0      6238795.0          2               1    60000000.0   \n",
       "67958   15000000.0      1200192.0          5               4    20000000.0   \n",
       "\n",
       "       CA_TENOR_MIN  APL_F_CL_BOD01_1M  ...  PCB_BALANCE_VOL_REMAINING  \\\n",
       "9275     20000000.0               -1.0  ...                        0.0   \n",
       "39171   100000000.0               -1.0  ...                       -1.0   \n",
       "28415   100000000.0               -1.0  ...                        0.0   \n",
       "37886    40000000.0               -1.0  ...                       -1.0   \n",
       "67958     5000000.0               -1.0  ...                       -1.0   \n",
       "\n",
       "       PCB_CNT_TENOR_REMAINING  PCB_AVG_SCORE  PMT_CNT_TOTAL  PMT_MAX_AMT  \\\n",
       "9275                       0.0          470.0              7       3000.0   \n",
       "39171                     -1.0           -1.0             17     277000.0   \n",
       "28415                      0.0          473.0             14    1438000.0   \n",
       "37886                     -1.0           -1.0             30    2209000.0   \n",
       "67958                     -1.0           -1.0              4     852000.0   \n",
       "\n",
       "       PMT_AVG_AMT  FLAG_CAL_CONTRACT_SIGNED_1M  \n",
       "9275     1481143.0                            0  \n",
       "39171     898588.0                            0  \n",
       "28415    1338857.0                            0  \n",
       "37886    2017300.0                            0  \n",
       "67958     851750.0                            0  \n",
       "\n",
       "[5 rows x 167 columns]"
      ]
     },
     "execution_count": 28,
     "metadata": {},
     "output_type": "execute_result"
    }
   ],
   "source": [
    "data_oversample.tail()"
   ]
  },
  {
   "cell_type": "code",
   "execution_count": 29,
   "metadata": {
    "ExecuteTime": {
     "end_time": "2019-03-28T12:30:54.600152Z",
     "start_time": "2019-03-28T12:30:52.102902Z"
    },
    "scrolled": false
   },
   "outputs": [
    {
     "name": "stdout",
     "output_type": "stream",
     "text": [
      "Mean target:  0.00625\n",
      "Train ((70000, 166), 0.006242857142857143, 437)\n",
      "Valid ((30000, 166), 0.006266666666666667, 188)\n"
     ]
    }
   ],
   "source": [
    "#general splitting for train and validation datasets \n",
    "#(I don't use in CL task, instead of this I use crosstime validation - the code in below)\n",
    "X_train, X_val, Y_train, Y_val = train_test_split( data_oversample.drop([IND_NAME],axis=1)\n",
    "                                                    , data_oversample[IND_NAME]\n",
    "                                                    , test_size=0.3, stratify=data_oversample[IND_NAME]\n",
    "                                                    , random_state=7)\n",
    "\n",
    "print ('Mean target: ', target.mean())\n",
    "print ('Train', (X_train.shape, Y_train.mean(), Y_train.sum()))\n",
    "print ('Valid', (X_val.shape, Y_val.mean(), Y_val.sum()))"
   ]
  },
  {
   "cell_type": "code",
   "execution_count": 30,
   "metadata": {
    "scrolled": true
   },
   "outputs": [
    {
     "data": {
      "text/html": [
       "<div>\n",
       "<style scoped>\n",
       "    .dataframe tbody tr th:only-of-type {\n",
       "        vertical-align: middle;\n",
       "    }\n",
       "\n",
       "    .dataframe tbody tr th {\n",
       "        vertical-align: top;\n",
       "    }\n",
       "\n",
       "    .dataframe thead th {\n",
       "        text-align: right;\n",
       "    }\n",
       "</style>\n",
       "<table border=\"1\" class=\"dataframe\">\n",
       "  <thead>\n",
       "    <tr style=\"text-align: right;\">\n",
       "      <th></th>\n",
       "      <th>CA_LIMIT_OF</th>\n",
       "      <th>CA_MAXINST_OF</th>\n",
       "      <th>CA_RBP_OF</th>\n",
       "      <th>CA_PROD_PRI_GR</th>\n",
       "      <th>CA_TENOR_MAX</th>\n",
       "      <th>CA_TENOR_MIN</th>\n",
       "      <th>APL_F_CL_BOD01_1M</th>\n",
       "      <th>...</th>\n",
       "      <th>PCB_CNT_CLX_NON_HOME_LOAN</th>\n",
       "      <th>PCB_BALANCE_VOL_REMAINING</th>\n",
       "      <th>PCB_CNT_TENOR_REMAINING</th>\n",
       "      <th>PCB_AVG_SCORE</th>\n",
       "      <th>PMT_CNT_TOTAL</th>\n",
       "      <th>PMT_MAX_AMT</th>\n",
       "      <th>PMT_AVG_AMT</th>\n",
       "    </tr>\n",
       "  </thead>\n",
       "  <tbody>\n",
       "    <tr>\n",
       "      <th>10739</th>\n",
       "      <td>15000000.0</td>\n",
       "      <td>3784064.0</td>\n",
       "      <td>1</td>\n",
       "      <td>2</td>\n",
       "      <td>80000000.0</td>\n",
       "      <td>60000000.0</td>\n",
       "      <td>-1.0</td>\n",
       "      <td>...</td>\n",
       "      <td>1</td>\n",
       "      <td>4192000.0</td>\n",
       "      <td>2.0</td>\n",
       "      <td>463.0</td>\n",
       "      <td>24</td>\n",
       "      <td>2096000.0</td>\n",
       "      <td>1724958.0</td>\n",
       "    </tr>\n",
       "    <tr>\n",
       "      <th>9881</th>\n",
       "      <td>15000000.0</td>\n",
       "      <td>4277934.0</td>\n",
       "      <td>2</td>\n",
       "      <td>4</td>\n",
       "      <td>20000000.0</td>\n",
       "      <td>5000000.0</td>\n",
       "      <td>-1.0</td>\n",
       "      <td>...</td>\n",
       "      <td>0</td>\n",
       "      <td>-1.0</td>\n",
       "      <td>-1.0</td>\n",
       "      <td>-1.0</td>\n",
       "      <td>6</td>\n",
       "      <td>1289000.0</td>\n",
       "      <td>1288833.0</td>\n",
       "    </tr>\n",
       "    <tr>\n",
       "      <th>18873</th>\n",
       "      <td>15000000.0</td>\n",
       "      <td>1872998.0</td>\n",
       "      <td>3</td>\n",
       "      <td>4</td>\n",
       "      <td>20000000.0</td>\n",
       "      <td>5000000.0</td>\n",
       "      <td>-1.0</td>\n",
       "      <td>...</td>\n",
       "      <td>0</td>\n",
       "      <td>0.0</td>\n",
       "      <td>0.0</td>\n",
       "      <td>499.0</td>\n",
       "      <td>12</td>\n",
       "      <td>855000.0</td>\n",
       "      <td>703667.0</td>\n",
       "    </tr>\n",
       "    <tr>\n",
       "      <th>43862</th>\n",
       "      <td>96111024.0</td>\n",
       "      <td>5036000.0</td>\n",
       "      <td>0</td>\n",
       "      <td>3</td>\n",
       "      <td>-1.0</td>\n",
       "      <td>-1.0</td>\n",
       "      <td>-1.0</td>\n",
       "      <td>...</td>\n",
       "      <td>0</td>\n",
       "      <td>0.0</td>\n",
       "      <td>0.0</td>\n",
       "      <td>0.0</td>\n",
       "      <td>18</td>\n",
       "      <td>1259000.0</td>\n",
       "      <td>1164667.0</td>\n",
       "    </tr>\n",
       "    <tr>\n",
       "      <th>88461</th>\n",
       "      <td>15651779.0</td>\n",
       "      <td>977676.0</td>\n",
       "      <td>3</td>\n",
       "      <td>3</td>\n",
       "      <td>20000000.0</td>\n",
       "      <td>5000000.0</td>\n",
       "      <td>-1.0</td>\n",
       "      <td>...</td>\n",
       "      <td>0</td>\n",
       "      <td>4294468.0</td>\n",
       "      <td>4.0</td>\n",
       "      <td>0.0</td>\n",
       "      <td>19</td>\n",
       "      <td>960000.0</td>\n",
       "      <td>1021684.0</td>\n",
       "    </tr>\n",
       "  </tbody>\n",
       "</table>\n",
       "<p>5 rows × 166 columns</p>\n",
       "</div>"
      ],
      "text/plain": [
       "       CA_LIMIT_OF  CA_MAXINST_OF  CA_RBP_OF  CA_PROD_PRI_GR  CA_TENOR_MAX  \\\n",
       "10739   15000000.0      3784064.0          1               2    80000000.0   \n",
       "9881    15000000.0      4277934.0          2               4    20000000.0   \n",
       "18873   15000000.0      1872998.0          3               4    20000000.0   \n",
       "43862   96111024.0      5036000.0          0               3          -1.0   \n",
       "88461   15651779.0       977676.0          3               3    20000000.0   \n",
       "\n",
       "       CA_TENOR_MIN  APL_F_CL_BOD01_1M  ...  PCB_CNT_CLX_NON_HOME_LOAN  \\\n",
       "10739    60000000.0               -1.0  ...                          1   \n",
       "9881      5000000.0               -1.0  ...                          0   \n",
       "18873     5000000.0               -1.0  ...                          0   \n",
       "43862          -1.0               -1.0  ...                          0   \n",
       "88461     5000000.0               -1.0  ...                          0   \n",
       "\n",
       "       PCB_BALANCE_VOL_REMAINING  PCB_CNT_TENOR_REMAINING  PCB_AVG_SCORE  \\\n",
       "10739                  4192000.0                      2.0          463.0   \n",
       "9881                        -1.0                     -1.0           -1.0   \n",
       "18873                        0.0                      0.0          499.0   \n",
       "43862                        0.0                      0.0            0.0   \n",
       "88461                  4294468.0                      4.0            0.0   \n",
       "\n",
       "       PMT_CNT_TOTAL  PMT_MAX_AMT  PMT_AVG_AMT  \n",
       "10739             24    2096000.0    1724958.0  \n",
       "9881               6    1289000.0    1288833.0  \n",
       "18873             12     855000.0     703667.0  \n",
       "43862             18    1259000.0    1164667.0  \n",
       "88461             19     960000.0    1021684.0  \n",
       "\n",
       "[5 rows x 166 columns]"
      ]
     },
     "execution_count": 30,
     "metadata": {},
     "output_type": "execute_result"
    }
   ],
   "source": [
    "X_train.head()"
   ]
  },
  {
   "cell_type": "code",
   "execution_count": 34,
   "metadata": {
    "scrolled": true
   },
   "outputs": [
    {
     "data": {
      "text/plain": [
       "10739    0\n",
       "9881     0\n",
       "18873    0\n",
       "43862    0\n",
       "88461    0\n",
       "Name: FLAG_CAL_CONTRACT_SIGNED_1M, dtype: uint8"
      ]
     },
     "execution_count": 34,
     "metadata": {},
     "output_type": "execute_result"
    }
   ],
   "source": [
    "Y_train.head()"
   ]
  },
  {
   "cell_type": "code",
   "execution_count": 35,
   "metadata": {},
   "outputs": [],
   "source": [
    "X_train=X_train.reset_index(drop=True)\n",
    "X_val=X_val.reset_index(drop=True)\n",
    "Y_train=Y_train.reset_index(drop=True)\n",
    "Y_val=Y_val.reset_index(drop=True)"
   ]
  },
  {
   "cell_type": "markdown",
   "metadata": {},
   "source": [
    "# Select params"
   ]
  },
  {
   "cell_type": "code",
   "execution_count": 36,
   "metadata": {
    "ExecuteTime": {
     "end_time": "2019-03-28T12:31:07.444981Z",
     "start_time": "2019-03-28T12:31:06.984641Z"
    }
   },
   "outputs": [],
   "source": [
    "#change a bit original lightGBM cross validation method to see both train and test sample performance\n",
    "def cv_changed(params, train_set, num_boost_round=100,\n",
    "               folds=None, nfold=5, stratified=True, shuffle=True,\n",
    "               metrics=None, fobj=None, feval=None, init_model=None,\n",
    "               feature_name='auto', categorical_feature='auto',\n",
    "               early_stopping_rounds=None, fpreproc=None,\n",
    "               verbose_eval=None, show_stdv=True, seed=0,\n",
    "               callbacks=None):\n",
    "    \"\"\"Perform the cross-validation with given paramaters.\n",
    "\n",
    "    Parameters\n",
    "    ----------\n",
    "    params : dict\n",
    "        Parameters for Booster.\n",
    "    train_set : Dataset\n",
    "        Data to be trained on.\n",
    "    num_boost_round : int, optional (default=100)\n",
    "        Number of boosting iterations.\n",
    "    folds : generator or iterator of (train_idx, test_idx) tuples, scikit-learn splitter object or None, \n",
    "        optional (default=None)\n",
    "        If generator or iterator, it should yield the train and test indices for each fold.\n",
    "        If object, it should be one of the scikit-learn splitter classes\n",
    "        (http://scikit-learn.org/stable/modules/classes.html#splitter-classes)\n",
    "        and have ``split`` method.\n",
    "        This argument has highest priority over other data split arguments.\n",
    "    nfold : int, optional (default=5)\n",
    "        Number of folds in CV.\n",
    "    stratified : bool, optional (default=True)\n",
    "        Whether to perform stratified sampling.\n",
    "    shuffle : bool, optional (default=True)\n",
    "        Whether to shuffle before splitting data.\n",
    "    metrics : string, list of strings or None, optional (default=None)\n",
    "        Evaluation metrics to be monitored while CV.\n",
    "        If not None, the metric in ``params`` will be overridden.\n",
    "    fobj : callable or None, optional (default=None)\n",
    "        Custom objective function.\n",
    "    feval : callable or None, optional (default=None)\n",
    "        Customized evaluation function.\n",
    "        Should accept two parameters: preds, train_data,\n",
    "        and return (eval_name, eval_result, is_higher_better) or list of such tuples.\n",
    "        For multi-class task, the preds is group by class_id first, then group by row_id.\n",
    "        If you want to get i-th row preds in j-th class, the access way is preds[j * num_data + i].\n",
    "        To ignore the default metric corresponding to the used objective,\n",
    "        set ``metrics`` to the string ``\"None\"``.\n",
    "    init_model : string, Booster or None, optional (default=None)\n",
    "        Filename of LightGBM model or Booster instance used for continue training.\n",
    "    feature_name : list of strings or 'auto', optional (default=\"auto\")\n",
    "        Feature names.\n",
    "        If 'auto' and data is pandas DataFrame, data columns names are used.\n",
    "    categorical_feature : list of strings or int, or 'auto', optional (default=\"auto\")\n",
    "        Categorical features.\n",
    "        If list of int, interpreted as indices.\n",
    "        If list of strings, interpreted as feature names (need to specify ``feature_name`` as well).\n",
    "        If 'auto' and data is pandas DataFrame, pandas categorical columns are used.\n",
    "        All values in categorical features should be less than int32 max value (2147483647).\n",
    "        Large values could be memory consuming. Consider using consecutive integers starting from zero.\n",
    "        All negative values in categorical features will be treated as missing values.\n",
    "    early_stopping_rounds : int or None, optional (default=None)\n",
    "        Activates early stopping.\n",
    "        CV score needs to improve at least every ``early_stopping_rounds`` round(s)\n",
    "        to continue.\n",
    "        Requires at least one metric. If there's more than one, will check all of them.\n",
    "        To check only the first metric you can pass in ``callbacks``\n",
    "        ``early_stopping`` callback with ``first_metric_only=True``.\n",
    "        Last entry in evaluation history is the one from the best iteration.\n",
    "    fpreproc : callable or None, optional (default=None)\n",
    "        Preprocessing function that takes (dtrain, dtest, params)\n",
    "        and returns transformed versions of those.\n",
    "    verbose_eval : bool, int, or None, optional (default=None)\n",
    "        Whether to display the progress.\n",
    "        If None, progress will be displayed when np.ndarray is returned.\n",
    "        If True, progress will be displayed at every boosting stage.\n",
    "        If int, progress will be displayed at every given ``verbose_eval`` boosting stage.\n",
    "    show_stdv : bool, optional (default=True)\n",
    "        Whether to display the standard deviation in progress.\n",
    "        Results are not affected by this parameter, and always contain std.\n",
    "    seed : int, optional (default=0)\n",
    "        Seed used to generate the folds (passed to numpy.random.seed).\n",
    "    callbacks : list of callables or None, optional (default=None)\n",
    "        List of callback functions that are applied at each iteration.\n",
    "        See Callbacks in Python API for more information.\n",
    "\n",
    "    Returns\n",
    "    -------\n",
    "    eval_hist : dict\n",
    "        Evaluation history.\n",
    "        The dictionary has the following format:\n",
    "        {'metric1-mean': [values], 'metric1-stdv': [values],\n",
    "        'metric2-mean': [values], 'metric2-stdv': [values],\n",
    "        ...}.\n",
    "    \"\"\"\n",
    "    if not isinstance(train_set, Dataset):\n",
    "        raise TypeError(\"Traninig only accepts Dataset object\")\n",
    "\n",
    "    params = copy.deepcopy(params)\n",
    "    if fobj is not None:\n",
    "        params['objective'] = 'none'\n",
    "    for alias in [\"num_iterations\", \"num_iteration\", \"n_iter\", \"num_tree\", \"num_trees\",\n",
    "                  \"num_round\", \"num_rounds\", \"num_boost_round\", \"n_estimators\"]:\n",
    "        if alias in params:\n",
    "            warnings.warn(\"Found `{}` in params. Will use it instead of argument\".format(alias))\n",
    "            num_boost_round = params.pop(alias)\n",
    "            break\n",
    "    for alias in [\"early_stopping_round\", \"early_stopping_rounds\", \"early_stopping\"]:\n",
    "        if alias in params:\n",
    "            warnings.warn(\"Found `{}` in params. Will use it instead of argument\".format(alias))\n",
    "            early_stopping_rounds = params.pop(alias)\n",
    "            break\n",
    "\n",
    "    if num_boost_round <= 0:\n",
    "        raise ValueError(\"num_boost_round should be greater than zero.\")\n",
    "    if isinstance(init_model, string_type):\n",
    "        predictor = _InnerPredictor(model_file=init_model, pred_parameter=params)\n",
    "    elif isinstance(init_model, Booster):\n",
    "        predictor = init_model._to_predictor(dict(init_model.params, **params))\n",
    "    else:\n",
    "        predictor = None\n",
    "    train_set._update_params(params) \\\n",
    "             ._set_predictor(predictor) \\\n",
    "             .set_feature_name(feature_name) \\\n",
    "             .set_categorical_feature(categorical_feature)\n",
    "\n",
    "    if metrics is not None:\n",
    "        params['metric'] = metrics\n",
    "\n",
    "    results = collections.defaultdict(list)\n",
    "    cvfolds = _make_n_folds(train_set, folds=folds, nfold=nfold,\n",
    "                            params=params, seed=seed, fpreproc=fpreproc,\n",
    "                            stratified=stratified, shuffle=shuffle)\n",
    "\n",
    "    # setup callbacks\n",
    "    if callbacks is None:\n",
    "        callbacks = set()\n",
    "    else:\n",
    "        for i, cb in enumerate(callbacks):\n",
    "            cb.__dict__.setdefault('order', i - len(callbacks))\n",
    "        callbacks = set(callbacks)\n",
    "    if early_stopping_rounds is not None:\n",
    "        callbacks.add(callback.early_stopping(early_stopping_rounds, verbose=False))\n",
    "    if verbose_eval is True:\n",
    "        callbacks.add(callback.print_evaluation(show_stdv=show_stdv))\n",
    "    elif isinstance(verbose_eval, integer_types):\n",
    "        callbacks.add(callback.print_evaluation(verbose_eval, show_stdv=show_stdv))\n",
    "\n",
    "    callbacks_before_iter = {cb for cb in callbacks if getattr(cb, 'before_iteration', False)}\n",
    "    callbacks_after_iter = callbacks - callbacks_before_iter\n",
    "    callbacks_before_iter = sorted(callbacks_before_iter, key=attrgetter('order'))\n",
    "    callbacks_after_iter = sorted(callbacks_after_iter, key=attrgetter('order'))\n",
    "\n",
    "    for i in range_(num_boost_round):\n",
    "        for cb in callbacks_before_iter:\n",
    "            cb(callback.CallbackEnv(model=cvfolds,\n",
    "                                    params=params,\n",
    "                                    iteration=i,\n",
    "                                    begin_iteration=0,\n",
    "                                    end_iteration=num_boost_round,\n",
    "                                    evaluation_result_list=None))\n",
    "        cvfolds.update(fobj=fobj)\n",
    "        res = [_agg_cv_result(cvfolds.eval_valid(feval)), _agg_cv_result(cvfolds.eval_train(feval))]\n",
    "\n",
    "        for _, key, mean, _, std in res[0]:\n",
    "            results[key + '-val-mean'].append(mean)\n",
    "            results[key + '-val-stdv'].append(std)\n",
    "        for _, key, mean, _, std in res[1]:\n",
    "            results[key + '-train-mean'].append(mean)\n",
    "            results[key + '-train-stdv'].append(std)\n",
    "            \n",
    "        try:\n",
    "            for cb in callbacks_after_iter:\n",
    "                cb(callback.CallbackEnv(model=cvfolds,\n",
    "                                        params=params,\n",
    "                                        iteration=i,\n",
    "                                        begin_iteration=0,\n",
    "                                        end_iteration=num_boost_round,\n",
    "                                        evaluation_result_list=res[0]))\n",
    "        except callback.EarlyStopException as earlyStopException:\n",
    "            cvfolds.best_iteration = earlyStopException.best_iteration + 1\n",
    "            for k in results:\n",
    "                results[k] = results[k][:cvfolds.best_iteration]\n",
    "            break\n",
    "    \n",
    "    return dict(results)"
   ]
  },
  {
   "cell_type": "code",
   "execution_count": 37,
   "metadata": {
    "ExecuteTime": {
     "end_time": "2019-03-28T12:31:08.591601Z",
     "start_time": "2019-03-28T12:31:08.587266Z"
    }
   },
   "outputs": [],
   "source": [
    "lgb.cv = cv_changed"
   ]
  },
  {
   "cell_type": "code",
   "execution_count": 2,
   "metadata": {
    "ExecuteTime": {
     "end_time": "2019-03-28T12:31:10.141520Z",
     "start_time": "2019-03-28T12:31:09.808909Z"
    }
   },
   "outputs": [],
   "source": [
    "# functions for creating model and selection of hyperparameters\n",
    "def objective_lgb(space, X, Y, cat_feats, NFALG_PRINT_HIST, NUM_FOLDS):\n",
    "    #global iteration, best_auc_so_far, best_ntrees\n",
    "    global iteration, best_auc_val_so_far, best_auc_val_std_so_far, best_ntrees, best_auc_train_so_far, best_auc_train_std_so_far\n",
    "    iteration += 1   \n",
    "    ### if NFALG_PRINT_HIST==False: print('Num step: {}'.format(iteration), end=\"\\r\")\n",
    "    params = {'num_leaves': int(space['num_leaves']),\n",
    "              'min_data_in_leaf': int(space['min_data_in_leaf']), \n",
    "              'max_depth': int(space['max_depth']),    \n",
    "              'bagging_freq': int(space['bagging_freq']),    \n",
    "              'max_bin': int(space['max_bin']),    \n",
    "              \n",
    "              'learning_rate': space['learning_rate'], \n",
    "              'feature_fraction': space['feature_fraction'],             \n",
    "              'bagging_fraction': space['bagging_fraction'],\n",
    "              'n_jobs': space['n_jobs'],\n",
    "              'objective': space['objective'],\n",
    "              'random_state': space['random_state']\n",
    "             }\n",
    "\n",
    "    ds = lgb.Dataset(X, \n",
    "                     Y, \n",
    "                     categorical_feature=cat_feats)\n",
    "    \n",
    "    cv_res = lgb.cv(params,\n",
    "                    ds, \n",
    "                    metrics='auc',\n",
    "                    num_boost_round=1000,\n",
    "                    early_stopping_rounds=50,\n",
    "                    nfold=len(time_folds) if time_folds else NUM_FOLDS,\n",
    "                    folds=time_folds if time_folds else None,\n",
    "                    categorical_feature=cat_feats)\n",
    "    \n",
    "    auc_val = cv_res['auc-val-mean'][-1]  #AUC  for the last boosting of Validation sample\n",
    "    auc_val_std = cv_res['auc-val-stdv'][-1] #AUC STD for the last boosting of Validation sample\n",
    "    auc_train = cv_res['auc-train-mean'][-1]  #AUC for the last boosting of Training Sample\n",
    "    auc_train_std = cv_res['auc-train-stdv'][-1] #AUC STD for the last boosting of Training Sample\n",
    "    \n",
    "    # choosing best parameters based on a comparison between a new calculated and the last best\n",
    "    if (((auc_val-2*auc_val_std)-0.5*abs((auc_train)-(auc_val))) > \n",
    "        ((best_auc_val_so_far-best_auc_val_std_so_far)-\n",
    "         0.5*abs((best_auc_train_so_far)-(best_auc_val_so_far)))):\n",
    "        best_auc_val_so_far = auc_val\n",
    "        best_auc_val_std_so_far = auc_val_std\n",
    "        best_ntrees = len(cv_res['auc-val-mean'])\n",
    "        best_auc_train_so_far = auc_train\n",
    "        best_auc_train_std_so_far = auc_train_std\n",
    "\n",
    "    if NFALG_PRINT_HIST:\n",
    "        print('iteration {}'.format(iteration))\n",
    "        print(\"---AUC SCORE (val):\\t{} (std: {}) ({} (std: {}) best so far)\".format(round(auc_val,6), round(auc_val_std,6), \n",
    "                                                                                    round(best_auc_val_so_far,6), round(best_auc_val_std_so_far,6)))\n",
    "        print(\"---AUC SCORE (train):\\t{} (std: {}) ({} (std: {}) best so far)\".format(round(auc_train,6), round(auc_train_std,6), \n",
    "                                                                                      round(best_auc_train_so_far,6), round(best_auc_train_std_so_far,6)))\n",
    "        print(\"---ntrees:\\t{} ({} best so far)\\n\".format(len(cv_res['auc-val-mean']), best_ntrees))\n",
    "    \n",
    "    return{'loss':1-((auc_val-auc_val_std)-0.5*abs((auc_train+auc_train_std)-(auc_val-auc_val_std))), 'status': STATUS_OK}\n",
    "\n",
    "def run_hyperopt_lgb(x_train, y_train, x_test, y_test, cat_feats, evals=10, NFALG_PRINT_HIST=True, NUM_FOLDS = 3):\n",
    "    iteration = 0\n",
    "    \n",
    "    params_space = {'num_leaves':[4, 12, 50, 100, 150, 200],\n",
    "                    'min_data_in_leaf':[20, 50, 100, 250],\n",
    "                    'max_depth':[2, 4, 6], # [2, 4, 6, 8, 10, 12, 14, 25]\n",
    "                    'bagging_freq':[1, 2, 3, 5, 10],\n",
    "                    'max_bin':[100, 255, 500],\n",
    "                    \n",
    "                    #'learning_rate':[0.01, 0.02, 0.03, 0.05, 0.1, 0.3, 0.5, 0.8, 1],\n",
    "                    'learning_rate':[.01, .05, .1, .3, .5, .8],\n",
    "                    'feature_fraction':[.25, .3, .5, .7],\n",
    "                    'bagging_fraction':[.3, .5, .7],\n",
    "                    'n_jobs': [8],\n",
    "                    'objective': ['binary'], \n",
    "                    'random_state': [123]}\n",
    "    # Variable for a final choice of the parameters (inputs) of the algorithm LightGBM\n",
    "    space = {'num_leaves' : hp.choice('num_leaves', params_space['num_leaves']),\n",
    "             'min_data_in_leaf' : hp.choice('min_data_in_leaf', params_space['min_data_in_leaf']),\n",
    "             'max_depth' : hp.choice('max_depth', params_space['max_depth']),\n",
    "             'bagging_freq' : hp.choice('bagging_freq', params_space['bagging_freq']),\n",
    "             'max_bin' : hp.choice('max_bin', params_space['max_bin']),             \n",
    "             \n",
    "             'learning_rate' : hp.choice('learning_rate', params_space['learning_rate']),\n",
    "             'feature_fraction' : hp.choice('feature_fraction', params_space['feature_fraction']),\n",
    "             'bagging_fraction' : hp.choice('bagging_fraction', params_space['bagging_fraction']),\n",
    "             'n_jobs' : hp.choice('n_jobs', params_space['n_jobs']),\n",
    "             'objective' : hp.choice('objective', params_space['objective']),\n",
    "             'random_state' : hp.choice('random_state', params_space['random_state'])}\n",
    "\n",
    "    trials = Trials() # hyperOpt variable for choosing algorithm for best parameters finding\n",
    "    # Running optimization for finding best parameters \n",
    "    best_params = fmin(fn=partial(objective_lgb, X=x_train, Y=y_train, cat_feats=cat_feats, \n",
    "                                  NFALG_PRINT_HIST=NFALG_PRINT_HIST, NUM_FOLDS=NUM_FOLDS),#objective\n",
    "               space=space,\n",
    "                algo=tpe.suggest, # Algorithm of finding optimal parameters. Please check how it works\n",
    "                max_evals=evals, # number of iterations\n",
    "                trials=trials) # object for Hyper Optimization\n",
    "\n",
    "    print(\"--Best params metrics AUC SCORE:{} (std: {})  ntrees: {}\".format(round(best_auc_val_so_far,6), round(best_auc_val_std_so_far,6), best_ntrees))\n",
    "    \n",
    "    for k in params_space.keys():  # востанавливает лучшие значения по их индексам\n",
    "        best_params[k] = params_space[k][best_params[k]] # best params in a different format\n",
    "            \n",
    "    train = lgb.Dataset(x_train,\n",
    "                        y_train,\n",
    "                        categorical_feature=cat_feats) #  categorical_feature \n",
    "    \n",
    "    test = lgb.Dataset(x_test,\n",
    "                       y_test, \n",
    "                       categorical_feature=cat_feats)\n",
    "    \n",
    "    booster = lgb.train(best_params,   # calling the algorithm itself\n",
    "                        train_set=train,\n",
    "                        valid_sets=[train, test],\n",
    "                        num_boost_round=best_ntrees,\n",
    "                        categorical_feature=cat_feats,\n",
    "                        verbose_eval=True)\n",
    "\n",
    "    return booster, best_params"
   ]
  },
  {
   "cell_type": "code",
   "execution_count": 39,
   "metadata": {
    "ExecuteTime": {
     "end_time": "2019-03-28T12:41:25.580225Z",
     "start_time": "2019-03-28T12:31:30.333073Z"
    },
    "scrolled": false
   },
   "outputs": [
    {
     "name": "stdout",
     "output_type": "stream",
     "text": [
      "iteration 1                                          \n",
      "---AUC SCORE (val):\t0.689065 (std: 0.056219) (0.689065 (std: 0.056219) best so far)\n",
      "---AUC SCORE (train):\t0.731784 (std: 0.038876) (0.731784 (std: 0.038876) best so far)\n",
      "---ntrees:\t3 (3 best so far)                         \n",
      "\n",
      "iteration 2                                                                    \n",
      "---AUC SCORE (val):\t0.709825 (std: 0.007532) (0.709825 (std: 0.007532) best so far)\n",
      "---AUC SCORE (train):\t0.742676 (std: 0.011837) (0.742676 (std: 0.011837) best so far)\n",
      "---ntrees:\t2 (2 best so far)                                                   \n",
      "\n",
      "iteration 3                                                                     \n",
      "---AUC SCORE (val):\t0.664514 (std: 0.038352) (0.709825 (std: 0.007532) best so far)\n",
      "---AUC SCORE (train):\t0.693287 (std: 0.029329) (0.742676 (std: 0.011837) best so far)\n",
      "---ntrees:\t1 (2 best so far)                                                    \n",
      "\n",
      "iteration 4                                                                     \n",
      "---AUC SCORE (val):\t0.666524 (std: 0.011122) (0.709825 (std: 0.007532) best so far)\n",
      "---AUC SCORE (train):\t0.67731 (std: 0.016169) (0.742676 (std: 0.011837) best so far)\n",
      "---ntrees:\t1 (2 best so far)                                                    \n",
      "\n",
      "iteration 5                                                                     \n",
      "---AUC SCORE (val):\t0.61995 (std: 0.041891) (0.709825 (std: 0.007532) best so far)\n",
      "---AUC SCORE (train):\t0.714813 (std: 0.019322) (0.742676 (std: 0.011837) best so far)\n",
      "---ntrees:\t10 (2 best so far)                                                   \n",
      "\n",
      "100%|██████████| 5/5 [00:09<00:00,  1.95s/trial, best loss: 0.32381638625226117]\n",
      "--Best params metrics AUC SCORE:0.709825 (std: 0.007532)  ntrees: 2\n",
      "[1]\ttraining's binary_logloss: 0.0425438\tvalid_1's binary_logloss: 0.0460018\n",
      "[2]\ttraining's binary_logloss: 0.0374665\tvalid_1's binary_logloss: 0.0405753\n"
     ]
    }
   ],
   "source": [
    "# the first model\n",
    "cat_feat = get_cat_feats(X_train, ids=True)\n",
    "iteration=0\n",
    "best_auc_val_so_far=0\n",
    "best_auc_val_std_so_far=0\n",
    "best_auc_train_so_far=0\n",
    "best_auc_train_std_so_far=0\n",
    "time_folds=False\n",
    "booster, best_params=run_hyperopt_lgb(X_train, Y_train, X_val, Y_val, cat_feat, evals=5)"
   ]
  },
  {
   "cell_type": "code",
   "execution_count": 40,
   "metadata": {
    "ExecuteTime": {
     "end_time": "2019-03-28T12:41:41.457920Z",
     "start_time": "2019-03-28T12:41:38.060181Z"
    }
   },
   "outputs": [
    {
     "name": "stdout",
     "output_type": "stream",
     "text": [
      "roc auc score on train:  0.7104499153278933\n",
      "roc auc score on val:  0.6737101260095179\n"
     ]
    }
   ],
   "source": [
    "#performance at the validation set in comparison with the test one\n",
    "y_pred_train = booster.predict(X_train)\n",
    "y_pred_val = booster.predict(X_val)\n",
    "\n",
    "print('roc auc score on train: ', roc_auc_score(Y_train, y_pred_train))\n",
    "print('roc auc score on val: ', roc_auc_score(Y_val, y_pred_val))"
   ]
  },
  {
   "cell_type": "code",
   "execution_count": null,
   "metadata": {
    "ExecuteTime": {
     "end_time": "2019-03-28T12:41:48.975208Z",
     "start_time": "2019-03-28T12:41:44.986786Z"
    },
    "scrolled": false
   },
   "outputs": [],
   "source": [
    "#model performance visualization (using a Russian library)\n",
    "ut_ANDREY_v2.print_lift_roc_pr_plot(Y_val, y_pred_val,NAME_MODEL='val')\n",
    "ut_ANDREY_v2.print_lift_roc_pr_plot(Y_train, y_pred_train,NAME_MODEL='train')"
   ]
  },
  {
   "cell_type": "code",
   "execution_count": null,
   "metadata": {
    "ExecuteTime": {
     "end_time": "2019-03-28T12:41:55.037430Z",
     "start_time": "2019-03-28T12:41:54.874195Z"
    }
   },
   "outputs": [],
   "source": [
    "#clean some memory\n",
    "gc.collect()"
   ]
  },
  {
   "cell_type": "code",
   "execution_count": null,
   "metadata": {},
   "outputs": [],
   "source": [
    "# Preparations to show most important features\n",
    "shap.initjs()\n",
    "model = booster\n",
    "X = pd.DataFrame(X_train) \n",
    "count_show_features = 20 "
   ]
  },
  {
   "cell_type": "code",
   "execution_count": null,
   "metadata": {},
   "outputs": [],
   "source": [
    "explainer = shap.TreeExplainer(model)\n",
    "shap_values = explainer.shap_values(X)\n",
    "shap.summary_plot(shap_values[0], X, max_display=count_show_features)"
   ]
  },
  {
   "cell_type": "markdown",
   "metadata": {},
   "source": [
    "# Select features "
   ]
  },
  {
   "cell_type": "code",
   "execution_count": null,
   "metadata": {
    "ExecuteTime": {
     "end_time": "2019-03-28T12:41:56.840804Z",
     "start_time": "2019-03-28T12:41:56.833214Z"
    }
   },
   "outputs": [],
   "source": [
    "def plot_heatmap(df, used_feats):\n",
    "    cr1 = df[used_feats].corr()\n",
    "    plt.figure(figsize=(40,34))\n",
    "    cmap = sns.diverging_palette(20, 220, sep=20, as_cmap=True)\n",
    "    sns.heatmap(cr1, cmap=cmap, vmin=-1, vmax=1)"
   ]
  },
  {
   "cell_type": "markdown",
   "metadata": {},
   "source": [
    "##  delete features with strong correlation"
   ]
  },
  {
   "cell_type": "code",
   "execution_count": null,
   "metadata": {
    "ExecuteTime": {
     "end_time": "2019-03-28T12:41:58.362476Z",
     "start_time": "2019-03-28T12:41:58.312646Z"
    }
   },
   "outputs": [],
   "source": [
    "# Function for calculating AUC for each feature\n",
    "def get_aucs(mdl = LogisticRegression(n_jobs=10,C=1) , x_df = pd.DataFrame(), Y_df = pd.Series()):\n",
    "    base_model = mdl\n",
    "    X_Train_AUC=[]\n",
    "    for idx, name in  tqdm_notebook(enumerate(x_df.columns), ncols=x_df.shape[1]):\n",
    "        skf = StratifiedKFold(n_splits=5, random_state=999, shuffle=True)\n",
    "        cv_score = cross_val_score(base_model\n",
    "                                      ,StandardScaler().fit_transform(np.array(x_df[name]).reshape(-1, 1))\n",
    "                                      ,Y_df\n",
    "                                      ,n_jobs=10,cv=5,verbose=0,scoring='roc_auc')\n",
    "        auc_avg, auc_std_95, auc_arr = np.mean(cv_score), cv_score.std(), cv_score #np.std(cv_score)*2 \n",
    "        X_Train_AUC.append([name, auc_avg, auc_std_95, auc_arr])\n",
    "    i_ind=[item[0] for item in X_Train_AUC]\n",
    "    X_Train_AUC=pd.DataFrame(X_Train_AUC, columns=['NAME','AUC_AVG', 'AUC_STD_95', 'AUC_ARR'], index=i_ind)\n",
    "    return X_Train_AUC"
   ]
  },
  {
   "cell_type": "code",
   "execution_count": null,
   "metadata": {
    "ExecuteTime": {
     "end_time": "2019-03-28T12:42:00.600164Z",
     "start_time": "2019-03-28T12:42:00.526391Z"
    }
   },
   "outputs": [],
   "source": [
    "# Procedure deleting high-correlated features\n",
    "def correlation_to_del(dataset, threshold, df_significant, name_col_sign = ''):\n",
    "    start = time.time()\n",
    "    dataset_in=dataset.copy()\n",
    "    col_corr = set() # Set of all the names of deleted columns\n",
    "    corr_matrix = dataset_in.corr().abs()\n",
    "    for i in tqdm_notebook(range(len(corr_matrix.columns))):\n",
    "        for j in range(i):\n",
    "            if corr_matrix.iloc[i, j] >= threshold:\n",
    "                colname_row = corr_matrix.index[j] # getting the name of index(row name)\n",
    "                colname_col = corr_matrix.columns[i] # getting the name of column\n",
    "                if df_significant.loc[colname_row][name_col_sign]> df_significant.loc[colname_col][name_col_sign]:\n",
    "                    colname=colname_col\n",
    "                else:\n",
    "                    colname=colname_row\n",
    "                col_corr.add(colname)\n",
    "                if colname in dataset_in.columns:\n",
    "                    del dataset_in[colname] # deleting the column from the dataset\n",
    "    end = time.time()\n",
    "    print (end-start)\n",
    "    return dataset_in, col_corr, corr_matrix"
   ]
  },
  {
   "cell_type": "code",
   "execution_count": null,
   "metadata": {
    "ExecuteTime": {
     "end_time": "2019-03-28T13:21:25.947968Z",
     "start_time": "2019-03-28T12:42:02.153786Z"
    }
   },
   "outputs": [],
   "source": [
    "X_Train_AUC = get_aucs(x_df=X_train, Y_df=Y_train)"
   ]
  },
  {
   "cell_type": "code",
   "execution_count": null,
   "metadata": {
    "ExecuteTime": {
     "end_time": "2019-03-28T13:29:57.922648Z",
     "start_time": "2019-03-28T13:29:57.699878Z"
    }
   },
   "outputs": [],
   "source": [
    "gc.collect()"
   ]
  },
  {
   "cell_type": "markdown",
   "metadata": {},
   "source": [
    "### select threshold "
   ]
  },
  {
   "cell_type": "code",
   "execution_count": null,
   "metadata": {
    "ExecuteTime": {
     "end_time": "2019-03-28T13:30:00.129674Z",
     "start_time": "2019-03-28T13:29:59.977131Z"
    }
   },
   "outputs": [],
   "source": [
    "def choose_threshold(params, X, y, list_of_thresholds=None):\n",
    "    \"\"\"\n",
    "    the function creates a visulization of model performance on cross validation for different levels of correlation \n",
    "    \n",
    "    params - model's hyperparameters\n",
    "    X - sample\n",
    "    y - target\n",
    "    list_of_thresh_holds - possible thresholds\n",
    "    \n",
    "    returns thresholds and related performance\n",
    "    \"\"\"\n",
    "    list_of_thresholds = list_of_thresholds or [ 0.65, 0.70, 0.75, 0.80,0.90,0.95]\n",
    "    x_aucs = []\n",
    "    cnt_of_feat = []\n",
    "    for threshold in list_of_thresholds:\n",
    "\n",
    "        X_Train_NCR, col_corr, corr_matrix=correlation_to_del(X_train, threshold, X_Train_AUC, 'AUC_AVG')\n",
    "        \n",
    "        X_attr = X[X_Train_NCR.columns]\n",
    "        cat_feat_attr = get_cat_feats(X_attr, ids=True)\n",
    "    \n",
    "        \n",
    "        ds = lgb.Dataset(X_attr, #features\n",
    "                         y, #target\n",
    "                         categorical_feature=cat_feat_attr)\n",
    "        \n",
    "        #params['random_state'] = 123\n",
    "        cv_res = lgb.cv(params,\n",
    "                    ds,#что  \n",
    "                    metrics='auc',\n",
    "                    num_boost_round=5000,# количество деревьек, если что сработает early stoping \n",
    "                    early_stopping_rounds=50,\n",
    "                    nfold=len(time_folds) if time_folds else NUM_FOLDS,\n",
    "                    folds=time_folds if time_folds else None,\n",
    "                    seed=123,\n",
    "                    categorical_feature=cat_feat_attr)\n",
    "        \n",
    "        auc = cv_res['auc-val-mean'][-1]\n",
    "        \n",
    "        cnt_of_feat.append(len(X_attr.columns))\n",
    "        x_aucs.append(auc)\n",
    "        \n",
    "    for i in range(len(x_aucs)):\n",
    "        print('threshold: ', list_of_thresholds[i])\n",
    "        print('count of features: ', cnt_of_feat[i])\n",
    "        print('roc auc: ', round(x_aucs[i],3))\n",
    "        print()\n",
    "#     print(x_aucs) \n",
    "#     print(cnt_of_feat)\n",
    "    plt.figure(figsize=(10,8))\n",
    "    plt.title('Roc_auc and thresh_holds of corr', fontsize=20)\n",
    "    plt.xlabel('thresh_holds of corr')\n",
    "    plt.ylabel('Roc auc score')\n",
    "    \n",
    "    plt.plot(list_of_thresholds, x_aucs, marker='.')\n",
    "\n",
    "    return list_of_thresholds[np.argmax(x_aucs)], max(x_aucs)"
   ]
  },
  {
   "cell_type": "code",
   "execution_count": null,
   "metadata": {
    "ExecuteTime": {
     "end_time": "2019-03-28T14:02:50.870953Z",
     "start_time": "2019-03-28T13:30:01.190599Z"
    },
    "scrolled": false
   },
   "outputs": [],
   "source": [
    "NUM_FOLDS=3 # if it not used, then delete\n",
    "th, m = choose_threshold(best_params, X_train, Y_train)"
   ]
  },
  {
   "cell_type": "code",
   "execution_count": null,
   "metadata": {
    "ExecuteTime": {
     "end_time": "2019-03-28T14:05:10.336567Z",
     "start_time": "2019-03-28T14:05:10.330504Z"
    }
   },
   "outputs": [],
   "source": [
    "th"
   ]
  },
  {
   "cell_type": "code",
   "execution_count": null,
   "metadata": {
    "ExecuteTime": {
     "end_time": "2019-03-28T14:09:20.410802Z",
     "start_time": "2019-03-28T14:05:11.854774Z"
    }
   },
   "outputs": [],
   "source": [
    "X_Train_NCR, col_corr, corr_matrix=correlation_to_del(X_train, th, X_Train_AUC, 'AUC_AVG')"
   ]
  },
  {
   "cell_type": "code",
   "execution_count": null,
   "metadata": {
    "ExecuteTime": {
     "end_time": "2019-03-28T14:09:23.921991Z",
     "start_time": "2019-03-28T14:09:23.909263Z"
    }
   },
   "outputs": [],
   "source": [
    "#selected features\n",
    "attr_features = X_Train_NCR.columns\n",
    "attr_features"
   ]
  },
  {
   "cell_type": "code",
   "execution_count": null,
   "metadata": {
    "ExecuteTime": {
     "end_time": "2019-03-28T14:15:55.880499Z",
     "start_time": "2019-03-28T14:09:25.412676Z"
    },
    "scrolled": false
   },
   "outputs": [],
   "source": [
    "# the second model\n",
    "cat_feat_attr = get_cat_feats(X_train[attr_features], ids=True)\n",
    "iteration=0\n",
    "best_auc_val_so_far=0\n",
    "best_auc_val_std_so_far=0\n",
    "best_auc_train_so_far=0\n",
    "best_auc_train_std_so_far=0\n",
    "booster_attr,best_params_attr = run_hyperopt_lgb(X_train[attr_features],  Y_train, X_val[attr_features], Y_val, cat_feat_attr, evals=10)"
   ]
  },
  {
   "cell_type": "code",
   "execution_count": null,
   "metadata": {
    "ExecuteTime": {
     "end_time": "2019-03-28T14:16:01.505029Z",
     "start_time": "2019-03-28T14:15:59.393635Z"
    }
   },
   "outputs": [],
   "source": [
    "y_pred_train_attr = booster_attr.predict(X_train[attr_features])\n",
    "y_pred_val_attr = booster_attr.predict(X_val[attr_features])\n",
    "\n",
    "print('roc auc score on train: ', roc_auc_score(Y_train, y_pred_train_attr))\n",
    "print('roc auc score on val: ', roc_auc_score(Y_val, y_pred_val_attr))"
   ]
  },
  {
   "cell_type": "code",
   "execution_count": null,
   "metadata": {
    "ExecuteTime": {
     "end_time": "2019-03-28T14:16:11.949945Z",
     "start_time": "2019-03-28T14:16:07.771090Z"
    },
    "scrolled": false
   },
   "outputs": [],
   "source": [
    "ut_ANDREY_v2.print_lift_roc_pr_plot(Y_val, y_pred_val_attr,NAME_MODEL='val')\n",
    "ut_ANDREY_v2.print_lift_roc_pr_plot(Y_train, y_pred_train_attr,NAME_MODEL='train')"
   ]
  },
  {
   "cell_type": "code",
   "execution_count": null,
   "metadata": {
    "ExecuteTime": {
     "end_time": "2019-03-28T14:16:20.941244Z",
     "start_time": "2019-03-28T14:16:20.779845Z"
    }
   },
   "outputs": [],
   "source": [
    "gc.collect()"
   ]
  },
  {
   "cell_type": "markdown",
   "metadata": {},
   "source": [
    "Two models are now available: booster on all features (X_train_1) and booster_attr on attr_features (X_train_1 [attr_features])"
   ]
  },
  {
   "cell_type": "markdown",
   "metadata": {
    "collapsed": true
   },
   "source": [
    "## Logistic Regression "
   ]
  },
  {
   "cell_type": "code",
   "execution_count": null,
   "metadata": {
    "ExecuteTime": {
     "end_time": "2019-03-28T14:16:23.492706Z",
     "start_time": "2019-03-28T14:16:23.488108Z"
    }
   },
   "outputs": [],
   "source": [
    "from sklearn.pipeline import Pipeline\n",
    "from sklearn.preprocessing import StandardScaler"
   ]
  },
  {
   "cell_type": "code",
   "execution_count": null,
   "metadata": {
    "ExecuteTime": {
     "end_time": "2019-03-28T14:16:24.347704Z",
     "start_time": "2019-03-28T14:16:24.273722Z"
    }
   },
   "outputs": [],
   "source": [
    "def feats_from_log_reg(X, y, X_val=None, y_val=None, C=0.1):\n",
    "    \"\"\"\n",
    "    The function builds a logistic regression with L1 regularizations,\n",
    "    builds a graph and returns features sorted in descending order (abs)\n",
    "    \n",
    "    X - Training sample\n",
    "    y - Answers to it\n",
    "    X_val - Test sample (what if good quality) \n",
    "    y_val - Answers to it\n",
    "    C= 0.1\n",
    "    \n",
    "    \"\"\"\n",
    "    \n",
    "    \n",
    "    scaler = StandardScaler()\n",
    "    clfLR = LogisticRegression(penalty='l1', n_jobs=8, C=0.1,solver ='saga')\n",
    "\n",
    "    pipeline = Pipeline([\n",
    "        ('prepr', scaler),\n",
    "        ('clf', clfLR)\n",
    "    ])\n",
    "\n",
    "    pipeline.fit(X,y )\n",
    "    coefs_l1 = pipeline.named_steps['clf'].coef_[0]\n",
    "\n",
    "    coefs_import_df = pd.DataFrame(list(zip(X.columns, coefs_l1)), columns=['feature', 'coef']).sort_values('coef', ascending=False).reset_index(drop=True)\n",
    "    if X_val is not None:\n",
    "        lr_pred = pipeline.predict_proba(X_val)[:,1]\n",
    "        print('roc auc score on val: ',roc_auc_score(y_val, lr_pred))\n",
    "    \n",
    "    plt.figure(figsize=(20, 10))\n",
    "    sns.barplot(x=\"coef\", y=\"feature\", data=coefs_import_df)\n",
    "    plt.title('Logistic Regression Features')\n",
    "    plt.tight_layout()\n",
    "    plt.show()\n",
    "    \n",
    "    coefs_import_df['coef'] = coefs_import_df['coef'].apply(abs)\n",
    "    \n",
    "    return coefs_import_df.sort_values('coef', ascending=False)['feature'].values"
   ]
  },
  {
   "cell_type": "code",
   "execution_count": null,
   "metadata": {
    "ExecuteTime": {
     "end_time": "2019-03-28T14:17:16.113965Z",
     "start_time": "2019-03-28T14:16:25.410395Z"
    },
    "scrolled": false
   },
   "outputs": [],
   "source": [
    "feats_from_lr = feats_from_log_reg(X_train[attr_features], Y_train)"
   ]
  },
  {
   "cell_type": "code",
   "execution_count": null,
   "metadata": {
    "ExecuteTime": {
     "end_time": "2019-03-28T14:17:16.121069Z",
     "start_time": "2019-03-28T14:17:16.116083Z"
    }
   },
   "outputs": [],
   "source": [
    "feats_from_lr"
   ]
  },
  {
   "cell_type": "code",
   "execution_count": null,
   "metadata": {},
   "outputs": [],
   "source": []
  },
  {
   "cell_type": "markdown",
   "metadata": {},
   "source": [
    "##  feature importance for LightGBM"
   ]
  },
  {
   "cell_type": "code",
   "execution_count": null,
   "metadata": {
    "ExecuteTime": {
     "end_time": "2019-03-28T14:17:23.063671Z",
     "start_time": "2019-03-28T14:17:23.036412Z"
    }
   },
   "outputs": [],
   "source": [
    "def get_top_feats_on_importance(booster, name_columns, show_on_plot=50):\n",
    "    \"\"\"\n",
    "    Function plots feature importance and returns features sorted in descending order\n",
    "    \n",
    "    booster -  модель\n",
    "    name_columns - название фичей\n",
    "    show_on_plot=50 -сколько показывать на графике фичей\n",
    "    \n",
    "    \"\"\"\n",
    "    \n",
    "    feature_imp = pd.DataFrame(sorted(zip(booster.feature_importance(importance_type='gain'), name_columns)), columns=['Value','Feature'])\n",
    "\n",
    "    plt.figure(figsize=(20, 30))\n",
    "    sns.barplot(x=\"Value\", y=\"Feature\", data=feature_imp.sort_values(by=\"Value\", ascending=False)[:show_on_plot])\n",
    "    plt.title('LightGBM Features')\n",
    "    plt.tight_layout()\n",
    "    plt.show()\n",
    "    \n",
    "    return feature_imp.sort_values(by=\"Value\", ascending=False)['Feature'].values\n"
   ]
  },
  {
   "cell_type": "code",
   "execution_count": null,
   "metadata": {
    "ExecuteTime": {
     "end_time": "2019-03-28T14:17:25.616378Z",
     "start_time": "2019-03-28T14:17:23.798151Z"
    },
    "scrolled": false
   },
   "outputs": [],
   "source": [
    "feats_from_importance = get_top_feats_on_importance(booster_attr, X_train[attr_features].columns, show_on_plot=50)"
   ]
  },
  {
   "cell_type": "code",
   "execution_count": null,
   "metadata": {
    "ExecuteTime": {
     "end_time": "2019-03-28T14:17:25.623923Z",
     "start_time": "2019-03-28T14:17:25.618857Z"
    },
    "scrolled": false
   },
   "outputs": [],
   "source": [
    "feats_from_importance"
   ]
  },
  {
   "cell_type": "markdown",
   "metadata": {},
   "source": [
    "## shap values"
   ]
  },
  {
   "cell_type": "code",
   "execution_count": null,
   "metadata": {
    "ExecuteTime": {
     "end_time": "2019-03-28T14:18:03.285444Z",
     "start_time": "2019-03-28T14:18:03.048421Z"
    }
   },
   "outputs": [],
   "source": [
    "shap.initjs()\n",
    "model = booster_attr #model\n",
    "X = pd.DataFrame(X_train[attr_features]) #выборка\n",
    "count_show_features = 20 # количество анализируемых фичей"
   ]
  },
  {
   "cell_type": "code",
   "execution_count": null,
   "metadata": {},
   "outputs": [],
   "source": [
    "explainer = shap.TreeExplainer(model)\n",
    "shap_values = explainer.shap_values(X)\n",
    "shap.summary_plot(shap_values[0], X, max_display=count_show_features)"
   ]
  },
  {
   "cell_type": "code",
   "execution_count": null,
   "metadata": {
    "ExecuteTime": {
     "end_time": "2019-03-28T14:20:34.931858Z",
     "start_time": "2019-03-28T14:20:33.296208Z"
    }
   },
   "outputs": [],
   "source": [
    "# Check how toread this chart\n",
    "shap.summary_plot(shap_values, X, plot_type=\"bar\", max_display=count_show_features)"
   ]
  },
  {
   "cell_type": "code",
   "execution_count": null,
   "metadata": {
    "ExecuteTime": {
     "end_time": "2019-03-28T14:20:35.396097Z",
     "start_time": "2019-03-28T14:20:34.934499Z"
    }
   },
   "outputs": [],
   "source": [
    "# Reorder the features\n",
    "feature_order = np.argsort(np.sum(np.abs(shap_values[0]), axis=0))\n",
    "feats_from_shap = X.columns[feature_order][::-1]"
   ]
  },
  {
   "cell_type": "code",
   "execution_count": null,
   "metadata": {
    "ExecuteTime": {
     "end_time": "2019-03-28T14:20:35.406958Z",
     "start_time": "2019-03-28T14:20:35.399598Z"
    },
    "scrolled": true
   },
   "outputs": [],
   "source": [
    "# Dislpays features\n",
    "feats_from_shap"
   ]
  },
  {
   "cell_type": "code",
   "execution_count": null,
   "metadata": {
    "ExecuteTime": {
     "end_time": "2019-03-28T14:20:35.576884Z",
     "start_time": "2019-03-28T14:20:35.409872Z"
    }
   },
   "outputs": [],
   "source": [
    "gc.collect()"
   ]
  },
  {
   "cell_type": "markdown",
   "metadata": {},
   "source": [
    "## Plots with differents count of features on Cross-Validation (CV)"
   ]
  },
  {
   "cell_type": "code",
   "execution_count": null,
   "metadata": {
    "ExecuteTime": {
     "end_time": "2019-03-28T14:57:54.547221Z",
     "start_time": "2019-03-28T14:57:54.469981Z"
    }
   },
   "outputs": [],
   "source": [
    "def choose_num_of_feat(params, X, y, list_of_feats, list_of_num_of_feat=None):\n",
    "    \"\"\"\n",
    "    Function builds a chart of model dependecy on number of features\n",
    "\n",
    "    params - Model parameters\n",
    "    X - Training Sample\n",
    "    y - Test sample\n",
    "    list_of_feats - list of features ordered bytheir importance\n",
    "    list_of_num_of_feat=None - List of feature counts for which we want to build a chart\n",
    "    \n",
    "    \"\"\"    \n",
    "    j = 0 \n",
    "    # We must use ordered by importance features!\n",
    "    list_of_num_of_feat = list_of_num_of_feat or [1,5, 10,17, 25,35, 50, 70, 85, 100,120,150]\n",
    "    x_aucs = []\n",
    "    l = []\n",
    "    for num_feat in list_of_num_of_feat:\n",
    "        try:\n",
    "            feats = list_of_feats[:num_feat]\n",
    "\n",
    "            cat_feats = get_cat_feats(X[feats], ids=True)\n",
    "            \n",
    "            ds = lgb.Dataset(X[feats], #features\n",
    "                             y, #target\n",
    "                             categorical_feature=cat_feats)\n",
    "\n",
    "            cv_res = lgb.cv(params,\n",
    "                        ds,#что  \n",
    "                        metrics='auc',\n",
    "                        num_boost_round=1000,# количество деревьек, если что сработает early stoping \n",
    "                        early_stopping_rounds=50,\n",
    "                        nfold=len(time_folds) if time_folds else NUM_FOLDS,\n",
    "                        folds=time_folds if time_folds else None,\n",
    "                        seed=123,\n",
    "                        categorical_feature=cat_feats)\n",
    "\n",
    "            auc = cv_res['auc-val-mean'][-1]\n",
    "            x_aucs.append(auc)\n",
    "            l.append(num_feat)\n",
    "            print(j)\n",
    "            j+=1\n",
    "            \n",
    "        except Exception as err:\n",
    "            print(err)\n",
    "                \n",
    "    print(x_aucs)\n",
    "    plt.figure(figsize=(15,10))\n",
    "    plt.title('Roc_auc and count_of_features', fontsize=20)\n",
    "    plt.xlabel('Number of features')\n",
    "    plt.ylabel('Roc auc score')\n",
    "    \n",
    "    plt.plot(l, x_aucs, marker='.', color='green')\n",
    "\n",
    "    return l[np.argmax(x_aucs)], max(x_aucs)"
   ]
  },
  {
   "cell_type": "markdown",
   "metadata": {},
   "source": [
    "### log_reg"
   ]
  },
  {
   "cell_type": "code",
   "execution_count": null,
   "metadata": {
    "ExecuteTime": {
     "end_time": "2019-03-28T15:03:17.160091Z",
     "start_time": "2019-03-28T14:57:56.823708Z"
    }
   },
   "outputs": [],
   "source": [
    "# Features for LogReg\n",
    "choose_num_of_feat(best_params_attr, X_train[attr_features], Y_train, feats_from_lr)"
   ]
  },
  {
   "cell_type": "code",
   "execution_count": null,
   "metadata": {
    "ExecuteTime": {
     "end_time": "2019-03-28T15:03:52.150035Z",
     "start_time": "2019-03-28T15:03:45.359710Z"
    }
   },
   "outputs": [],
   "source": [
    "# Looking at the correlation matrix\n",
    "plot_heatmap(X_train, feats_from_lr[:50])"
   ]
  },
  {
   "cell_type": "markdown",
   "metadata": {},
   "source": [
    "### feature_importancefor LGBM"
   ]
  },
  {
   "cell_type": "code",
   "execution_count": null,
   "metadata": {
    "ExecuteTime": {
     "end_time": "2019-03-28T15:07:26.056875Z",
     "start_time": "2019-03-28T15:03:52.153225Z"
    },
    "scrolled": false
   },
   "outputs": [],
   "source": [
    "# фичи по feature importance\n",
    "choose_num_of_feat(best_params_attr, X_train[attr_features], Y_train, feats_from_importance)"
   ]
  },
  {
   "cell_type": "code",
   "execution_count": null,
   "metadata": {
    "ExecuteTime": {
     "end_time": "2019-03-28T15:09:49.009664Z",
     "start_time": "2019-03-28T15:09:46.391693Z"
    }
   },
   "outputs": [],
   "source": [
    "plot_heatmap(X_train, feats_from_importance[:50])"
   ]
  },
  {
   "cell_type": "markdown",
   "metadata": {},
   "source": [
    "### shap"
   ]
  },
  {
   "cell_type": "code",
   "execution_count": null,
   "metadata": {
    "ExecuteTime": {
     "end_time": "2019-03-28T15:13:10.777443Z",
     "start_time": "2019-03-28T15:09:58.541413Z"
    }
   },
   "outputs": [],
   "source": [
    "# LGBM features by shap\n",
    "choose_num_of_feat(best_params_attr, X_train[attr_features], Y_train, feats_from_shap)"
   ]
  },
  {
   "cell_type": "code",
   "execution_count": null,
   "metadata": {
    "ExecuteTime": {
     "end_time": "2019-03-28T15:13:26.361992Z",
     "start_time": "2019-03-28T15:13:23.861617Z"
    }
   },
   "outputs": [],
   "source": [
    "plot_heatmap(X_train, feats_from_shap[:50])"
   ]
  },
  {
   "cell_type": "markdown",
   "metadata": {},
   "source": [
    "## look through lists of features"
   ]
  },
  {
   "cell_type": "code",
   "execution_count": null,
   "metadata": {},
   "outputs": [],
   "source": [
    "#manual\n",
    "l=120"
   ]
  },
  {
   "cell_type": "code",
   "execution_count": null,
   "metadata": {
    "ExecuteTime": {
     "end_time": "2019-03-28T15:23:13.602893Z",
     "start_time": "2019-03-28T15:23:13.593536Z"
    },
    "scrolled": false
   },
   "outputs": [],
   "source": [
    "feats_from_importance[:l]"
   ]
  },
  {
   "cell_type": "code",
   "execution_count": null,
   "metadata": {
    "ExecuteTime": {
     "end_time": "2019-03-28T15:23:14.845638Z",
     "start_time": "2019-03-28T15:23:14.837736Z"
    }
   },
   "outputs": [],
   "source": [
    "feats_from_lr[:l]"
   ]
  },
  {
   "cell_type": "code",
   "execution_count": null,
   "metadata": {
    "ExecuteTime": {
     "end_time": "2019-03-28T15:23:15.902307Z",
     "start_time": "2019-03-28T15:23:15.896674Z"
    },
    "scrolled": false
   },
   "outputs": [],
   "source": [
    "feats_from_shap[:l]"
   ]
  },
  {
   "cell_type": "markdown",
   "metadata": {},
   "source": [
    "## last select features"
   ]
  },
  {
   "cell_type": "code",
   "execution_count": null,
   "metadata": {
    "ExecuteTime": {
     "end_time": "2019-03-28T15:23:59.790040Z",
     "start_time": "2019-03-28T15:23:59.784876Z"
    }
   },
   "outputs": [],
   "source": [
    "#manual\n",
    "# Selecting a final list of features\n",
    "features = feats_from_shap[:l]\n",
    "features"
   ]
  },
  {
   "cell_type": "markdown",
   "metadata": {},
   "source": [
    "# Model "
   ]
  },
  {
   "cell_type": "code",
   "execution_count": null,
   "metadata": {
    "ExecuteTime": {
     "end_time": "2019-03-28T15:28:13.516087Z",
     "start_time": "2019-03-28T15:24:04.019877Z"
    },
    "scrolled": false
   },
   "outputs": [],
   "source": [
    "# the third model based on a final list of features\n",
    "cat_feat_small = get_cat_feats(X_train[features], ids=True)\n",
    "iteration=0\n",
    "best_auc_val_so_far=0\n",
    "best_auc_val_std_so_far=0\n",
    "best_auc_train_so_far=0\n",
    "best_auc_train_std_so_far=0\n",
    "booster_small,best_params_small =run_hyperopt_lgb(X_train[features] ,  Y_train, X_val[features], Y_val, cat_feat_small, evals=10)"
   ]
  },
  {
   "cell_type": "code",
   "execution_count": null,
   "metadata": {
    "ExecuteTime": {
     "end_time": "2019-03-28T15:29:08.029616Z",
     "start_time": "2019-03-28T15:29:07.057498Z"
    }
   },
   "outputs": [],
   "source": [
    "y_pred_train_small = booster_small.predict(X_train[features])\n",
    "y_pred_val_small = booster_small.predict(X_val[features])\n",
    "\n",
    "print('roc auc score on train: ', roc_auc_score(Y_train, y_pred_train_small))\n",
    "print('roc auc score on val: ', roc_auc_score(Y_val, y_pred_val_small))"
   ]
  },
  {
   "cell_type": "code",
   "execution_count": null,
   "metadata": {
    "ExecuteTime": {
     "end_time": "2019-03-28T15:29:17.637304Z",
     "start_time": "2019-03-28T15:29:13.557951Z"
    },
    "scrolled": false
   },
   "outputs": [],
   "source": [
    "ut_ANDREY_v2.print_lift_roc_pr_plot(Y_val, y_pred_val_small,NAME_MODEL='val')\n",
    "ut_ANDREY_v2.print_lift_roc_pr_plot(Y_train, y_pred_train_small,NAME_MODEL='train')"
   ]
  },
  {
   "cell_type": "code",
   "execution_count": null,
   "metadata": {},
   "outputs": [],
   "source": []
  },
  {
   "cell_type": "markdown",
   "metadata": {},
   "source": [
    "# Select model "
   ]
  },
  {
   "cell_type": "markdown",
   "metadata": {},
   "source": [
    "Here you should choose between 3 models: booster (X_train), booster_attr (X_train[attr_features]),  booster_small (X_train[features])"
   ]
  },
  {
   "cell_type": "markdown",
   "metadata": {},
   "source": [
    "## performance comparison between models on X_train dataset"
   ]
  },
  {
   "cell_type": "code",
   "execution_count": null,
   "metadata": {
    "ExecuteTime": {
     "end_time": "2019-03-28T15:29:34.237795Z",
     "start_time": "2019-03-28T15:29:27.654651Z"
    },
    "scrolled": false
   },
   "outputs": [],
   "source": [
    "ut_ANDREY_v2.print_lift_roc_pr_plot(Y_train, y_pred_train,NAME_MODEL='all_features')\n",
    "ut_ANDREY_v2.print_lift_roc_pr_plot(Y_train, y_pred_train_attr,NAME_MODEL='attr')\n",
    "ut_ANDREY_v2.print_lift_roc_pr_plot(Y_train, y_pred_train_small,NAME_MODEL='last_model')"
   ]
  },
  {
   "cell_type": "markdown",
   "metadata": {
    "ExecuteTime": {
     "end_time": "2018-12-12T12:49:00.581094Z",
     "start_time": "2018-12-12T12:49:00.577915Z"
    }
   },
   "source": [
    "## performance comparison between models on X_val dataset"
   ]
  },
  {
   "cell_type": "code",
   "execution_count": null,
   "metadata": {
    "ExecuteTime": {
     "end_time": "2019-03-28T15:29:49.530438Z",
     "start_time": "2019-03-28T15:29:45.788773Z"
    },
    "scrolled": false
   },
   "outputs": [],
   "source": [
    "ut_ANDREY_v2.print_lift_roc_pr_plot(Y_val, y_pred_val,NAME_MODEL='all_features')\n",
    "ut_ANDREY_v2.print_lift_roc_pr_plot(Y_val, y_pred_val_attr,NAME_MODEL='attr')\n",
    "ut_ANDREY_v2.print_lift_roc_pr_plot(Y_val, y_pred_val_small,NAME_MODEL='last_model')"
   ]
  },
  {
   "cell_type": "markdown",
   "metadata": {},
   "source": [
    "## Save last choice"
   ]
  },
  {
   "cell_type": "code",
   "execution_count": null,
   "metadata": {
    "ExecuteTime": {
     "end_time": "2019-03-28T15:30:06.883372Z",
     "start_time": "2019-03-28T15:30:06.826323Z"
    }
   },
   "outputs": [],
   "source": [
    "#leave the chosen model only\n",
    "X_train, X_val = X_train[features], X_val[features]\n",
    "\n",
    "booster = booster_small\n",
    "params = best_params_small\n",
    "cat_feats = cat_feat_small"
   ]
  },
  {
   "cell_type": "code",
   "execution_count": null,
   "metadata": {
    "ExecuteTime": {
     "end_time": "2019-03-28T15:30:08.191443Z",
     "start_time": "2019-03-28T15:30:08.031170Z"
    }
   },
   "outputs": [],
   "source": [
    "gc.collect()"
   ]
  },
  {
   "cell_type": "markdown",
   "metadata": {},
   "source": [
    "# Report about the selected model"
   ]
  },
  {
   "cell_type": "code",
   "execution_count": null,
   "metadata": {
    "ExecuteTime": {
     "end_time": "2019-03-28T15:31:24.726000Z",
     "start_time": "2019-03-28T15:31:06.996353Z"
    },
    "scrolled": false
   },
   "outputs": [],
   "source": [
    "UMR.print_report_tt(Y_train, y_pred_train_small, Y_val, y_pred_val_small, pd.DataFrame())\n",
    "plt.show()"
   ]
  },
  {
   "cell_type": "code",
   "execution_count": null,
   "metadata": {
    "ExecuteTime": {
     "end_time": "2019-03-28T15:31:52.591603Z",
     "start_time": "2019-03-28T15:31:52.466052Z"
    }
   },
   "outputs": [],
   "source": [
    "UMR.get_lift_df( y_pred_train_small, Y_train)"
   ]
  },
  {
   "cell_type": "markdown",
   "metadata": {},
   "source": [
    "# Save files with the model and with the list of selected features"
   ]
  },
  {
   "cell_type": "code",
   "execution_count": null,
   "metadata": {},
   "outputs": [],
   "source": [
    "unique_name='_cl'"
   ]
  },
  {
   "cell_type": "code",
   "execution_count": null,
   "metadata": {
    "ExecuteTime": {
     "end_time": "2019-03-28T15:40:26.589911Z",
     "start_time": "2019-03-28T15:40:26.571157Z"
    }
   },
   "outputs": [],
   "source": [
    "path_to_model = 'lgbm_booster' + unique_name\n",
    "path_to_features = 'lgbm_booster_features' + unique_name\n",
    "\n",
    "pickle.dump(booster_small, open(path_to_model, 'wb')) \n",
    "pickle.dump(features, open(path_to_features, 'wb'))  "
   ]
  },
  {
   "cell_type": "code",
   "execution_count": null,
   "metadata": {},
   "outputs": [],
   "source": []
  }
 ],
 "metadata": {
  "kernelspec": {
   "display_name": "Python 3",
   "language": "python",
   "name": "python3"
  },
  "language_info": {
   "codemirror_mode": {
    "name": "ipython",
    "version": 3
   },
   "file_extension": ".py",
   "mimetype": "text/x-python",
   "name": "python",
   "nbconvert_exporter": "python",
   "pygments_lexer": "ipython3",
   "version": "3.7.7"
  },
  "toc": {
   "base_numbering": 1,
   "nav_menu": {},
   "number_sections": true,
   "sideBar": true,
   "skip_h1_title": false,
   "title_cell": "Table of Contents",
   "title_sidebar": "Contents",
   "toc_cell": false,
   "toc_position": {
    "height": "calc(100% - 180px)",
    "left": "10px",
    "top": "150px",
    "width": "266px"
   },
   "toc_section_display": true,
   "toc_window_display": true
  }
 },
 "nbformat": 4,
 "nbformat_minor": 2
}
